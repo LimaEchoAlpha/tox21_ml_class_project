{
 "cells": [
  {
   "cell_type": "code",
   "execution_count": 12,
   "metadata": {},
   "outputs": [],
   "source": [
    "# import libraries needed\n",
    "import pandas as pd\n",
    "import numpy as np\n",
    "import random\n",
    "\n",
    "from mol2vec.features import mol2alt_sentence, mol2sentence, MolSentence, DfVec, sentences2vec\n",
    "from gensim.models import word2vec\n",
    "from rdkit.Chem import Descriptors\n",
    "\n",
    "from rdkit import Chem\n",
    "from rdkit.Chem import AllChem\n",
    "from rdkit.Chem import Draw\n",
    "from rdkit.Chem.Draw import IPythonConsole\n",
    "IPythonConsole.ipython_useSVG = True\n",
    "\n",
    "from sklearn.pipeline import Pipeline\n",
    "from sklearn.neighbors import KNeighborsClassifier\n",
    "from sklearn.linear_model import LogisticRegression\n",
    "from sklearn.naive_bayes import BernoulliNB\n",
    "from sklearn.naive_bayes import MultinomialNB\n",
    "from sklearn.naive_bayes import GaussianNB\n",
    "from sklearn.ensemble import RandomForestClassifier\n",
    "from sklearn.svm import SVC, NuSVC, LinearSVC\n",
    "\n",
    "from sklearn.feature_extraction.text import CountVectorizer, TfidfVectorizer\n",
    "\n",
    "from sklearn.metrics import confusion_matrix, plot_confusion_matrix\n",
    "from sklearn import metrics\n",
    "from sklearn.metrics import classification_report, roc_auc_score\n",
    "\n",
    "%matplotlib inline\n",
    "import matplotlib.pyplot as plt\n",
    "import seaborn as sns"
   ]
  },
  {
   "cell_type": "markdown",
   "metadata": {},
   "source": [
    "### Import Data\n",
    "\n",
    "Import cleaned and standardized data for the Tox21 NR-AhR assay.  Use train and score datasets as train and test data, respectively."
   ]
  },
  {
   "cell_type": "code",
   "execution_count": 3,
   "metadata": {},
   "outputs": [
    {
     "name": "stdout",
     "output_type": "stream",
     "text": [
      "Train data shape: (6709,)\n",
      "Train labels shape: (6709,)\n",
      "Active compounds: 761\n",
      "Inactive compounds: 5948\n",
      "Inactive : Active ~ 7\n"
     ]
    }
   ],
   "source": [
    "train = pd.read_csv('../processed_data/nr_ahr_std_train.csv')\n",
    "#train.head()\n",
    "\n",
    "train_data = train.std_compounds\n",
    "train_labels = train.label\n",
    "\n",
    "print('Train data shape:', train_data.shape)\n",
    "print('Train labels shape:', train_labels.shape)\n",
    "\n",
    "active_train = train_data[train_labels == 1].reset_index(drop=True)\n",
    "inactive_train = train_data[train_labels == 0].reset_index(drop=True)\n",
    "\n",
    "print('Active compounds:', len(train_labels[train_labels == 1]))\n",
    "print('Inactive compounds:', len(train_labels[train_labels == 0]))\n",
    "print('Inactive : Active ~', len(train_labels[train_labels == 0]) // len(train_labels[train_labels == 1]))"
   ]
  },
  {
   "cell_type": "code",
   "execution_count": 4,
   "metadata": {},
   "outputs": [
    {
     "name": "stdout",
     "output_type": "stream",
     "text": [
      "Test data shape: (607,)\n",
      "Test labels shape: (607,)\n",
      "Active compounds: 71\n",
      "Inactive compounds: 536\n",
      "Inactive : Active ~ 7\n"
     ]
    }
   ],
   "source": [
    "test = pd.read_csv('../processed_data/nr_ahr_test_std.csv')\n",
    "#test.head()\n",
    "\n",
    "test_data = test.std_compounds\n",
    "test_labels = test.label\n",
    "\n",
    "print('Test data shape:', test_data.shape)\n",
    "print('Test labels shape:', test_labels.shape)\n",
    "\n",
    "print('Active compounds:', len(test_labels[test_labels == 1]))\n",
    "print('Inactive compounds:', len(test_labels[test_labels == 0]))\n",
    "print('Inactive : Active ~', len(test_labels[test_labels == 0]) // len(test_labels[test_labels == 1]))"
   ]
  },
  {
   "cell_type": "markdown",
   "metadata": {},
   "source": [
    "## Conventional features used in chemistry ML using RDKit\n",
    "\n",
    "Following a kaggle tutorial:  https://www.kaggle.com/vladislavkisin/tutorial-ml-in-chemistry-research-rdkit-mol2vec"
   ]
  },
  {
   "cell_type": "markdown",
   "metadata": {},
   "source": [
    "### Morgan fingerprinting (ECFP)\n",
    "\n",
    "Reference link: https://docs.chemaxon.com/display/docs/extended-connectivity-fingerprint-ecfp.md\n",
    "\n",
    "Notes:\n",
    "- Need to convert SMILES strings to RDKit Mol object first\n",
    "- Uses mol2vec to create molecular \"sentences\" that are then translated to vector representations of the substructures (based on word2vec)\n",
    "- **Warning**: mol2vec is dependent on an old version (3.8.0) of Gensim to work.  It would not work with Gensim 4.0.0."
   ]
  },
  {
   "cell_type": "code",
   "execution_count": 10,
   "metadata": {},
   "outputs": [],
   "source": [
    "def ecfp_featurizer(train, test):\n",
    "    \n",
    "    # convert SMILES to RDKit Mol object\n",
    "    train['mol'] = train['std_compounds'].apply(lambda x: Chem.MolFromSmiles(x))\n",
    "    test['mol'] = test['std_compounds'].apply(lambda x: Chem.MolFromSmiles(x))\n",
    "    \n",
    "    model = word2vec.Word2Vec.load('model_300dim.pkl')\n",
    "    \n",
    "    #Constructing sentences\n",
    "    train['sentence'] = train.apply(lambda x: MolSentence(mol2alt_sentence(x['mol'], 1)), axis=1)\n",
    "    test['sentence'] = test.apply(lambda x: MolSentence(mol2alt_sentence(x['mol'], 1)), axis=1)\n",
    "\n",
    "    # extracting embeddings to a numpy.array\n",
    "    # note that we always should mark unseen='UNK' in sentence2vec() \n",
    "    # so that model is taught how to handle unknown substructures\n",
    "    train['mol2vec'] = [DfVec(x) for x in sentences2vec(train['sentence'], model, unseen='UNK')]\n",
    "    test['mol2vec'] = [DfVec(x) for x in sentences2vec(test['sentence'], model, unseen='UNK')]\n",
    "    x_train = np.array([x.vec for x in train['mol2vec']])\n",
    "    x_test = np.array([x.vec for x in test['mol2vec']])\n",
    "    \n",
    "    return x_train, x_test"
   ]
  },
  {
   "cell_type": "code",
   "execution_count": 11,
   "metadata": {},
   "outputs": [
    {
     "name": "stdout",
     "output_type": "stream",
     "text": [
      "(6709, 100)\n",
      "(607, 100)\n"
     ]
    }
   ],
   "source": [
    "x_ecfp, x_ecfp_test = ecfp_featurizer(train, test)\n",
    "\n",
    "print(x_ecfp.shape)\n",
    "print(x_ecfp_test.shape)"
   ]
  },
  {
   "cell_type": "markdown",
   "metadata": {},
   "source": [
    "### 1D representation of molecules using RDKit\n",
    "\n",
    "Includes two types of features: \n",
    "- Atom counts - total number of atoms; number of heavy atoms; number of C, O, N, Cl atoms\n",
    "- Molecular descriptors - molecular weight, number of valence electrons, number of heteroatoms"
   ]
  },
  {
   "cell_type": "code",
   "execution_count": 13,
   "metadata": {},
   "outputs": [],
   "source": [
    "def number_of_atoms(atom_list, df):\n",
    "    for i in atom_list:\n",
    "        df['num_of_{}_atoms'.format(i)] = df['mol'].apply(lambda x: len(x.GetSubstructMatches(Chem.MolFromSmiles(i))))"
   ]
  },
  {
   "cell_type": "code",
   "execution_count": 22,
   "metadata": {},
   "outputs": [],
   "source": [
    "def oned_featurizer(train, test):\n",
    "    \n",
    "    # convert SMILES to RDKit Mol object\n",
    "    train['mol'] = train['std_compounds'].apply(lambda x: Chem.MolFromSmiles(x))\n",
    "    test['mol'] = test['std_compounds'].apply(lambda x: Chem.MolFromSmiles(x))\n",
    "    \n",
    "    # number of atoms\n",
    "    train['mol'] = train['mol'].apply(lambda x: Chem.AddHs(x))\n",
    "    train['num_of_atoms'] = train['mol'].apply(lambda x: x.GetNumAtoms())\n",
    "    train['num_of_heavy_atoms'] = train['mol'].apply(lambda x: x.GetNumHeavyAtoms())\n",
    "    number_of_atoms(['C','O', 'N', 'Cl'], train)\n",
    "    \n",
    "    test['mol'] = test['mol'].apply(lambda x: Chem.AddHs(x))\n",
    "    test['num_of_atoms'] = test['mol'].apply(lambda x: x.GetNumAtoms())\n",
    "    test['num_of_heavy_atoms'] = train['mol'].apply(lambda x: x.GetNumHeavyAtoms())\n",
    "    number_of_atoms(['C','O', 'N', 'Cl'], test)\n",
    "    \n",
    "    # molecular descriptors\n",
    "    train['mol_w'] = train['mol'].apply(lambda x: Descriptors.ExactMolWt(x))\n",
    "    train['num_valence_electrons'] = train['mol'].apply(lambda x: Descriptors.NumValenceElectrons(x))\n",
    "    train['num_heteroatoms'] = train['mol'].apply(lambda x: Descriptors.NumHeteroatoms(x))\n",
    "    \n",
    "    test['mol_w'] = test['mol'].apply(lambda x: Descriptors.ExactMolWt(x))\n",
    "    test['num_valence_electrons'] = test['mol'].apply(lambda x: Descriptors.NumValenceElectrons(x))\n",
    "    test['num_heteroatoms'] = test['mol'].apply(lambda x: Descriptors.NumHeteroatoms(x))\n",
    "    \n",
    "    x_train = train[['num_of_atoms', 'num_of_heavy_atoms', 'num_of_C_atoms', \n",
    "                     'num_of_O_atoms', 'num_of_N_atoms', 'num_of_Cl_atoms', 'mol_w', \n",
    "                     'num_valence_electrons', 'num_heteroatoms']]\n",
    "    x_test = test[['num_of_atoms', 'num_of_heavy_atoms', 'num_of_C_atoms', \n",
    "                     'num_of_O_atoms', 'num_of_N_atoms', 'num_of_Cl_atoms', 'mol_w', \n",
    "                     'num_valence_electrons', 'num_heteroatoms']]\n",
    "    \n",
    "    return x_train, x_test"
   ]
  },
  {
   "cell_type": "code",
   "execution_count": 23,
   "metadata": {},
   "outputs": [
    {
     "name": "stdout",
     "output_type": "stream",
     "text": [
      "(6709, 9)\n",
      "(607, 9)\n"
     ]
    }
   ],
   "source": [
    "x_oned, x_oned_test = oned_featurizer(train, test)\n",
    "\n",
    "print(x_oned.shape)\n",
    "print(x_oned_test.shape)"
   ]
  },
  {
   "cell_type": "markdown",
   "metadata": {},
   "source": [
    "### Run some models"
   ]
  },
  {
   "cell_type": "code",
   "execution_count": 25,
   "metadata": {},
   "outputs": [],
   "source": [
    "def run_model(classifier, classifier_name, x_train, x_test):\n",
    "    \"\"\"Helper function for running and evaluating models\"\"\"\n",
    "    \n",
    "    trained_classifier = classifier.fit(x_train, train_labels)\n",
    "    \n",
    "    # print classification report for model \n",
    "    report = classification_report(test_labels, trained_classifier.predict(x_test))\n",
    "    print(report)\n",
    "    \n",
    "    # print roc-auc score for model\n",
    "    roc_auc = roc_auc_score(test_labels, trained_classifier.predict_proba(x_test)[:, 1])\n",
    "    print(f'ROC-AUC: {roc_auc:.3f}')\n",
    "    \n",
    "    # show a confusion matrix for the model\n",
    "    disp = plot_confusion_matrix(trained_classifier, x_test, test_labels, cmap='cividis')\n",
    "    disp.figure_.suptitle(f'Confusion Matrix for {classifier_name} Model')\n",
    "    plt.show()"
   ]
  },
  {
   "cell_type": "code",
   "execution_count": 26,
   "metadata": {},
   "outputs": [
    {
     "name": "stdout",
     "output_type": "stream",
     "text": [
      "              precision    recall  f1-score   support\n",
      "\n",
      "           0       0.98      0.65      0.78       536\n",
      "           1       0.25      0.89      0.39        71\n",
      "\n",
      "    accuracy                           0.68       607\n",
      "   macro avg       0.61      0.77      0.59       607\n",
      "weighted avg       0.89      0.68      0.74       607\n",
      "\n",
      "ROC-AUC: 0.852\n"
     ]
    },
    {
     "data": {
      "image/png": "[encoded data removed]",
      "text/plain": [
       "<Figure size 432x288 with 2 Axes>"
      ]
     },
     "metadata": {
      "needs_background": "light"
     },
     "output_type": "display_data"
    }
   ],
   "source": [
    "classifier = BernoulliNB()\n",
    "run_model(classifier, 'Bernoulli NB', x_ecfp, x_ecfp_test)"
   ]
  },
  {
   "cell_type": "code",
   "execution_count": 29,
   "metadata": {},
   "outputs": [
    {
     "name": "stdout",
     "output_type": "stream",
     "text": [
      "              precision    recall  f1-score   support\n",
      "\n",
      "           0       0.89      0.96      0.93       536\n",
      "           1       0.31      0.14      0.19        71\n",
      "\n",
      "    accuracy                           0.86       607\n",
      "   macro avg       0.60      0.55      0.56       607\n",
      "weighted avg       0.83      0.86      0.84       607\n",
      "\n",
      "ROC-AUC: 0.693\n"
     ]
    },
    {
     "data": {
      "image/png": "[encoded data removed]",
      "text/plain": [
       "<Figure size 432x288 with 2 Axes>"
      ]
     },
     "metadata": {
      "needs_background": "light"
     },
     "output_type": "display_data"
    }
   ],
   "source": [
    "classifier = KNeighborsClassifier(n_neighbors=10)\n",
    "run_model(classifier, 'KNN', x_oned, x_oned_test)"
   ]
  },
  {
   "cell_type": "code",
   "execution_count": null,
   "metadata": {},
   "outputs": [],
   "source": []
  }
 ],
 "metadata": {
  "kernelspec": {
   "display_name": "Python 3",
   "language": "python",
   "name": "python3"
  },
  "language_info": {
   "codemirror_mode": {
    "name": "ipython",
    "version": 3
   },
   "file_extension": ".py",
   "mimetype": "text/x-python",
   "name": "python",
   "nbconvert_exporter": "python",
   "pygments_lexer": "ipython3",
   "version": "3.8.3"
  }
 },
 "nbformat": 4,
 "nbformat_minor": 4
}
