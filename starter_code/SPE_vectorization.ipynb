{
 "cells": [
  {
   "cell_type": "code",
   "execution_count": 2,
   "metadata": {},
   "outputs": [],
   "source": [
    "# import libraries needed\n",
    "import pandas as pd\n",
    "import numpy as np\n",
    "import random\n",
    "\n",
    "import codecs\n",
    "from SmilesPE.tokenizer import *\n",
    "from SmilesPE.pretokenizer import atomwise_tokenizer\n",
    "from SmilesPE.pretokenizer import kmer_tokenizer\n",
    "\n",
    "from rdkit import Chem\n",
    "from rdkit.Chem import AllChem\n",
    "from rdkit.Chem import Draw\n",
    "from rdkit.Chem.Draw import IPythonConsole\n",
    "IPythonConsole.ipython_useSVG = True\n",
    "\n",
    "from sklearn.pipeline import Pipeline\n",
    "from sklearn.neighbors import KNeighborsClassifier\n",
    "from sklearn.linear_model import LogisticRegression\n",
    "from sklearn.naive_bayes import BernoulliNB\n",
    "from sklearn.naive_bayes import MultinomialNB\n",
    "from sklearn.naive_bayes import GaussianNB\n",
    "from sklearn.ensemble import RandomForestClassifier\n",
    "from sklearn.svm import SVC, NuSVC, LinearSVC\n",
    "\n",
    "from sklearn.feature_extraction.text import CountVectorizer, TfidfVectorizer\n",
    "\n",
    "from sklearn.metrics import confusion_matrix, plot_confusion_matrix\n",
    "from sklearn import metrics\n",
    "from sklearn.metrics import classification_report, roc_auc_score\n",
    "\n",
    "%matplotlib inline\n",
    "import matplotlib.pyplot as plt\n",
    "import seaborn as sns"
   ]
  },
  {
   "cell_type": "markdown",
   "metadata": {},
   "source": [
    "### Import Data\n",
    "\n",
    "Import cleaned and standardized data for the Tox21 NR-AhR assay.  Use train and score datasets as train and test data, respectively."
   ]
  },
  {
   "cell_type": "code",
   "execution_count": 6,
   "metadata": {},
   "outputs": [
    {
     "name": "stdout",
     "output_type": "stream",
     "text": [
      "Train data shape: (6709,)\n",
      "Train labels shape: (6709,)\n",
      "Active compounds: 761\n",
      "Inactive compounds: 5948\n",
      "Inactive : Active ~ 7\n"
     ]
    }
   ],
   "source": [
    "train = pd.read_csv('../processed_data/nr_ahr_std_train.csv')\n",
    "#train.head()\n",
    "\n",
    "train_data = train.std_compounds\n",
    "train_labels = train.label\n",
    "\n",
    "print('Train data shape:', train_data.shape)\n",
    "print('Train labels shape:', train_labels.shape)\n",
    "\n",
    "active_train = train_data[train_labels == 1].reset_index(drop=True)\n",
    "inactive_train = train_data[train_labels == 0].reset_index(drop=True)\n",
    "\n",
    "print('Active compounds:', len(train_labels[train_labels == 1]))\n",
    "print('Inactive compounds:', len(train_labels[train_labels == 0]))\n",
    "print('Inactive : Active ~', len(train_labels[train_labels == 0]) // len(train_labels[train_labels == 1]))"
   ]
  },
  {
   "cell_type": "code",
   "execution_count": 7,
   "metadata": {},
   "outputs": [
    {
     "name": "stdout",
     "output_type": "stream",
     "text": [
      "Test data shape: (607,)\n",
      "Test labels shape: (607,)\n",
      "Active compounds: 71\n",
      "Inactive compounds: 536\n",
      "Inactive : Active ~ 7\n"
     ]
    }
   ],
   "source": [
    "test = pd.read_csv('../processed_data/nr_ahr_test_std.csv')\n",
    "#test.head()\n",
    "\n",
    "test_data = test.std_compounds\n",
    "test_labels = test.label\n",
    "\n",
    "print('Test data shape:', test_data.shape)\n",
    "print('Test labels shape:', test_labels.shape)\n",
    "\n",
    "print('Active compounds:', len(test_labels[test_labels == 1]))\n",
    "print('Inactive compounds:', len(test_labels[test_labels == 0]))\n",
    "print('Inactive : Active ~', len(test_labels[test_labels == 0]) // len(test_labels[test_labels == 1]))"
   ]
  },
  {
   "cell_type": "markdown",
   "metadata": {},
   "source": [
    "### Creating SPE features\n",
    "\n",
    "Paper reference: https://drive.google.com/file/d/1Mh-rBJS3CXt2lwsNTTEVnMReK8K4u6eR/view\n",
    "GitHub site: https://github.com/XinhaoLi74/SmilesPE\n",
    "\n",
    "Steps:\n",
    "1) Load vocabulary pre-trained by the authors from CheMBL data (SPE_ChEMBL.txt).\n",
    "2) Use `spe.tokenize()` to split SMILES strings in train and test data to fragments from pre-trained vocabulary.  Note that this produces another string with fragments separated by spaces.\n",
    "3) Use `CountVectorizer()` to split the tokenized strings into tokens and transform each data set into a matrix of vectors.\n",
    "\n",
    "*Note*:\n",
    "- Can use `TfidfVectorizer()` instead of `CountVectorizer()`"
   ]
  },
  {
   "cell_type": "code",
   "execution_count": 10,
   "metadata": {},
   "outputs": [],
   "source": [
    "def spe_featurizer(train_data, test_data):\n",
    "    \"\"\"Creates datasets ready to input into ML models\n",
    "       Uses SPE vocabulary and CountVectorizer to create features\"\"\"\n",
    "    \n",
    "    # load vocab\n",
    "    spe_vob = codecs.open(r'SPE_ChEMBL.txt')\n",
    "    spe = SPE_Tokenizer(spe_vob)\n",
    "    \n",
    "    # split SMILES strings to tokens\n",
    "    train_spe = train_data.apply(lambda x: spe.tokenize(x))\n",
    "    test_spe = test_data.apply(lambda x: spe.tokenize(x))\n",
    "    \n",
    "    # split tokenized strings into tokens\n",
    "    # transform dataset into a matrix of vectors\n",
    "    split_string = lambda x: x.split()\n",
    "    vectorizer = CountVectorizer(preprocessor=None, stop_words=None, lowercase=False, tokenizer=split_string)\n",
    "\n",
    "    x_train = vectorizer.fit_transform(train_spe)\n",
    "    x_test = vectorizer.transform(test_spe)\n",
    "    train_vocab = vectorizer.get_feature_names()\n",
    "    \n",
    "    return x_train, x_test, train_vocab"
   ]
  },
  {
   "cell_type": "code",
   "execution_count": 14,
   "metadata": {},
   "outputs": [
    {
     "name": "stdout",
     "output_type": "stream",
     "text": [
      "(6709, 2378)\n",
      "(607, 2378)\n"
     ]
    }
   ],
   "source": [
    "x_spe, x_spe_test, spe_vocab = spe_featurizer(train_data, test_data)\n",
    "\n",
    "print(x_spe.shape)\n",
    "print(x_spe_test.shape)"
   ]
  },
  {
   "cell_type": "code",
   "execution_count": 26,
   "metadata": {},
   "outputs": [],
   "source": [
    "def spe_featurizer2(train_data, test_data):\n",
    "    \"\"\"Creates datasets ready to input into ML models\n",
    "       Uses SPE vocabulary and CountVectorizer to create features\n",
    "       Forces the use of whole vocabulary, not just fragments in train data\"\"\"\n",
    "    \n",
    "    # load vocab\n",
    "    spe_vocab = pd.read_csv('SPE_ChEMBL.txt', header=None)\n",
    "    spe_vocab = spe_vocab.rename(columns={0: 'fragments'})\n",
    "    \n",
    "    spe_vob = codecs.open(r'SPE_ChEMBL.txt')\n",
    "    spe = SPE_Tokenizer(spe_vob)\n",
    "    \n",
    "    # split SMILES strings to tokens\n",
    "    train_spe = train_data.apply(lambda x: spe.tokenize(x))\n",
    "    test_spe = test_data.apply(lambda x: spe.tokenize(x))\n",
    "    \n",
    "    # split tokenized strings into tokens\n",
    "    # transform dataset into a matrix of vectors\n",
    "    split_string = lambda x: x.split()\n",
    "    vectorizer = CountVectorizer(preprocessor=None, stop_words=None, lowercase=False, \n",
    "                                 tokenizer=split_string, vocabulary=spe_vocab.fragments)\n",
    "    x_train = vectorizer.transform(train_spe)\n",
    "    x_test = vectorizer.transform(test_spe)\n",
    "    train_vocab = vectorizer.get_feature_names()\n",
    "    \n",
    "    return x_train, x_test, train_vocab"
   ]
  },
  {
   "cell_type": "code",
   "execution_count": 27,
   "metadata": {},
   "outputs": [
    {
     "name": "stdout",
     "output_type": "stream",
     "text": [
      "(6709, 3002)\n",
      "(607, 3002)\n"
     ]
    }
   ],
   "source": [
    "x_spe2, x_spe2_test, spe2_vocab = spe_featurizer2(train_data, test_data)\n",
    "\n",
    "print(x_spe2.shape)\n",
    "print(x_spe2_test.shape)"
   ]
  },
  {
   "cell_type": "markdown",
   "metadata": {},
   "source": [
    "### Creating atom-wise and k-mer features\n",
    "\n",
    "See GitHub site for creating SPE features.  The authors also included an atomwise and k-mer tokenizer."
   ]
  },
  {
   "cell_type": "code",
   "execution_count": 28,
   "metadata": {},
   "outputs": [],
   "source": [
    "def atom_featurizer(train_data, test_data):\n",
    "    \"\"\"Creates datasets ready to input into ML models\n",
    "       Uses atomwise tokenizer and CountVectorizer to create features\"\"\"\n",
    "    \n",
    "    # split SMILES strings into tokens\n",
    "    train_atom = train_data.apply(lambda x: ' '.join(atomwise_tokenizer(x)))\n",
    "    test_atom = test_data.apply(lambda x: ' '.join(atomwise_tokenizer(x)))\n",
    "    \n",
    "    split_string = lambda x: x.split()\n",
    "    vectorizer = CountVectorizer(preprocessor=None, stop_words=None, \n",
    "                                 lowercase=False, tokenizer=split_string)\n",
    "\n",
    "    x_train = vectorizer.fit_transform(train_atom)\n",
    "    x_test = vectorizer.transform(test_atom)\n",
    "    train_vocab = vectorizer.get_feature_names()\n",
    "    \n",
    "    return x_train, x_test, train_vocab"
   ]
  },
  {
   "cell_type": "code",
   "execution_count": 29,
   "metadata": {},
   "outputs": [
    {
     "name": "stdout",
     "output_type": "stream",
     "text": [
      "(6709, 131)\n",
      "(607, 131)\n"
     ]
    }
   ],
   "source": [
    "x_atom, x_atom_test, atom_vocab = atom_featurizer(train_data, test_data)\n",
    "\n",
    "print(x_atom.shape)\n",
    "print(x_atom_test.shape)"
   ]
  },
  {
   "cell_type": "code",
   "execution_count": 32,
   "metadata": {},
   "outputs": [],
   "source": [
    "def kmer_featurizer(train_data, test_data):\n",
    "    \"\"\"Creates datasets ready to input into ML models\n",
    "       Uses atomwise tokenizer a\n",
    "       nd CountVectorizer to create features\"\"\"\n",
    "    \n",
    "    # split SMILES strings into tokens\n",
    "    train_kmer = train_data.apply(lambda x: ' '.join(kmer_tokenizer(x)))\n",
    "    test_kmer = test_data.apply(lambda x: ' '.join(kmer_tokenizer(x)))\n",
    "    \n",
    "    split_string = lambda x: x.split()\n",
    "    vectorizer = CountVectorizer(preprocessor=None, stop_words=None, \n",
    "                                 lowercase=False, tokenizer=split_string)\n",
    "\n",
    "    x_train = vectorizer.fit_transform(train_kmer)\n",
    "    x_test = vectorizer.transform(test_kmer)\n",
    "    train_vocab = vectorizer.get_feature_names()\n",
    "    \n",
    "    return x_train, x_test, train_vocab"
   ]
  },
  {
   "cell_type": "code",
   "execution_count": 33,
   "metadata": {},
   "outputs": [
    {
     "name": "stdout",
     "output_type": "stream",
     "text": [
      "(6709, 7831)\n",
      "(607, 7831)\n"
     ]
    }
   ],
   "source": [
    "x_kmer, x_kmer_test, kmer_vocab = kmer_featurizer(train_data, test_data)\n",
    "\n",
    "print(x_kmer.shape)\n",
    "print(x_kmer_test.shape)"
   ]
  },
  {
   "cell_type": "markdown",
   "metadata": {},
   "source": [
    "### Running and evaluating models\n",
    "\n",
    "Prints three types of evaluation for models:\n",
    "- Classification report that includes accuracy, precision, and F1 score ([link](https://towardsdatascience.com/accuracy-precision-recall-or-f1-331fb37c5cb9) to blog post explanation)\n",
    "- ROC-AUC score ([link](https://youtu.be/4jRBRDbJemM) to good video explanation)\n",
    "- Confusion matrix"
   ]
  },
  {
   "cell_type": "code",
   "execution_count": 38,
   "metadata": {},
   "outputs": [],
   "source": [
    "def run_model(classifier, classifier_name, x_train, x_test):\n",
    "    \"\"\"Helper function for running and evaluating models\"\"\"\n",
    "    \n",
    "    trained_classifier = classifier.fit(x_train, train_labels)\n",
    "    \n",
    "    # print classification report for model \n",
    "    report = classification_report(test_labels, trained_classifier.predict(x_test))\n",
    "    print(report)\n",
    "    \n",
    "    # print roc-auc score for model\n",
    "    roc_auc = roc_auc_score(test_labels, trained_classifier.predict_proba(x_test)[:, 1])\n",
    "    print(f'ROC-AUC: {roc_auc:.3f}')\n",
    "    \n",
    "    # show a confusion matrix for the model\n",
    "    disp = plot_confusion_matrix(trained_classifier, x_test, test_labels, cmap='cividis')\n",
    "    disp.figure_.suptitle(f'Confusion Matrix for {classifier_name} Model')\n",
    "    plt.show()"
   ]
  },
  {
   "cell_type": "code",
   "execution_count": 42,
   "metadata": {},
   "outputs": [
    {
     "name": "stdout",
     "output_type": "stream",
     "text": [
      "              precision    recall  f1-score   support\n",
      "\n",
      "           0       0.93      0.90      0.91       536\n",
      "           1       0.39      0.51      0.44        71\n",
      "\n",
      "    accuracy                           0.85       607\n",
      "   macro avg       0.66      0.70      0.68       607\n",
      "weighted avg       0.87      0.85      0.86       607\n",
      "\n",
      "ROC-AUC: 0.835\n"
     ]
    },
    {
     "data": {
      "image/png": "[encoded data removed]",
      "text/plain": [
       "<Figure size 432x288 with 2 Axes>"
      ]
     },
     "metadata": {
      "needs_background": "light"
     },
     "output_type": "display_data"
    }
   ],
   "source": [
    "classifier = BernoulliNB()\n",
    "run_model(classifier, 'Bernoulli NB', x_spe, x_spe_test)"
   ]
  },
  {
   "cell_type": "code",
   "execution_count": 43,
   "metadata": {},
   "outputs": [
    {
     "name": "stdout",
     "output_type": "stream",
     "text": [
      "              precision    recall  f1-score   support\n",
      "\n",
      "           0       0.89      0.98      0.93       536\n",
      "           1       0.35      0.10      0.15        71\n",
      "\n",
      "    accuracy                           0.87       607\n",
      "   macro avg       0.62      0.54      0.54       607\n",
      "weighted avg       0.83      0.87      0.84       607\n",
      "\n",
      "ROC-AUC: 0.628\n"
     ]
    },
    {
     "data": {
      "image/png": "[encoded data removed]",
      "text/plain": [
       "<Figure size 432x288 with 2 Axes>"
      ]
     },
     "metadata": {
      "needs_background": "light"
     },
     "output_type": "display_data"
    }
   ],
   "source": [
    "classifier = KNeighborsClassifier(n_neighbors=5)\n",
    "run_model(classifier, 'KNN', x_spe, x_spe_test)"
   ]
  },
  {
   "cell_type": "code",
   "execution_count": 44,
   "metadata": {},
   "outputs": [
    {
     "name": "stdout",
     "output_type": "stream",
     "text": [
      "              precision    recall  f1-score   support\n",
      "\n",
      "           0       0.89      0.97      0.93       536\n",
      "           1       0.35      0.11      0.17        71\n",
      "\n",
      "    accuracy                           0.87       607\n",
      "   macro avg       0.62      0.54      0.55       607\n",
      "weighted avg       0.83      0.87      0.84       607\n",
      "\n",
      "ROC-AUC: 0.825\n"
     ]
    },
    {
     "data": {
      "image/png": "[encoded data removed]",
      "text/plain": [
       "<Figure size 432x288 with 2 Axes>"
      ]
     },
     "metadata": {
      "needs_background": "light"
     },
     "output_type": "display_data"
    }
   ],
   "source": [
    "classifier = RandomForestClassifier()\n",
    "run_model(classifier, 'Random Forest', x_spe, x_spe_test)"
   ]
  },
  {
   "cell_type": "code",
   "execution_count": 47,
   "metadata": {},
   "outputs": [
    {
     "name": "stdout",
     "output_type": "stream",
     "text": [
      "              precision    recall  f1-score   support\n",
      "\n",
      "           0       0.92      0.93      0.93       536\n",
      "           1       0.44      0.38      0.41        71\n",
      "\n",
      "    accuracy                           0.87       607\n",
      "   macro avg       0.68      0.66      0.67       607\n",
      "weighted avg       0.86      0.87      0.87       607\n",
      "\n",
      "ROC-AUC: 0.786\n"
     ]
    },
    {
     "data": {
      "image/png": "[encoded data removed]",
      "text/plain": [
       "<Figure size 432x288 with 2 Axes>"
      ]
     },
     "metadata": {
      "needs_background": "light"
     },
     "output_type": "display_data"
    }
   ],
   "source": [
    "classifier = SVC(probability=True, kernel='linear')\n",
    "run_model(classifier, 'SVM', x_spe, x_spe_test)"
   ]
  },
  {
   "cell_type": "code",
   "execution_count": 48,
   "metadata": {},
   "outputs": [
    {
     "name": "stdout",
     "output_type": "stream",
     "text": [
      "              precision    recall  f1-score   support\n",
      "\n",
      "           0       0.92      0.92      0.92       536\n",
      "           1       0.42      0.42      0.42        71\n",
      "\n",
      "    accuracy                           0.86       607\n",
      "   macro avg       0.67      0.67      0.67       607\n",
      "weighted avg       0.86      0.86      0.86       607\n",
      "\n",
      "ROC-AUC: 0.791\n"
     ]
    },
    {
     "data": {
      "image/png": "[encoded data removed]",
      "text/plain": [
       "<Figure size 432x288 with 2 Axes>"
      ]
     },
     "metadata": {
      "needs_background": "light"
     },
     "output_type": "display_data"
    }
   ],
   "source": [
    "classifier = LogisticRegression(C=10, solver=\"liblinear\", multi_class=\"auto\")\n",
    "run_model(classifier, 'Logistic Regression', x_spe, x_spe_test)"
   ]
  },
  {
   "cell_type": "code",
   "execution_count": null,
   "metadata": {},
   "outputs": [],
   "source": []
  }
 ],
 "metadata": {
  "kernelspec": {
   "display_name": "Python 3",
   "language": "python",
   "name": "python3"
  },
  "language_info": {
   "codemirror_mode": {
    "name": "ipython",
    "version": 3
   },
   "file_extension": ".py",
   "mimetype": "text/x-python",
   "name": "python",
   "nbconvert_exporter": "python",
   "pygments_lexer": "ipython3",
   "version": "3.8.3"
  }
 },
 "nbformat": 4,
 "nbformat_minor": 4
}
