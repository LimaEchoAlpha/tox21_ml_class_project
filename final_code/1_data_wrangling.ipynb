{
 "cells": [
  {
   "cell_type": "code",
   "execution_count": 1,
   "metadata": {},
   "outputs": [],
   "source": [
    "import pandas as pd\n",
    "import numpy as np\n",
    "from molvs import standardize_smiles"
   ]
  },
  {
   "cell_type": "markdown",
   "metadata": {},
   "source": [
    "### Generate train data and labels (without standardizing)"
   ]
  },
  {
   "cell_type": "code",
   "execution_count": 2,
   "metadata": {},
   "outputs": [
    {
     "data": {
      "text/html": [
       "<div>\n",
       "<style scoped>\n",
       "    .dataframe tbody tr th:only-of-type {\n",
       "        vertical-align: middle;\n",
       "    }\n",
       "\n",
       "    .dataframe tbody tr th {\n",
       "        vertical-align: top;\n",
       "    }\n",
       "\n",
       "    .dataframe thead th {\n",
       "        text-align: right;\n",
       "    }\n",
       "</style>\n",
       "<table border=\"1\" class=\"dataframe\">\n",
       "  <thead>\n",
       "    <tr style=\"text-align: right;\">\n",
       "      <th></th>\n",
       "      <th>compounds</th>\n",
       "      <th>id</th>\n",
       "      <th>label</th>\n",
       "    </tr>\n",
       "  </thead>\n",
       "  <tbody>\n",
       "    <tr>\n",
       "      <th>0</th>\n",
       "      <td>CC(O)=O.[H][C@@]12CCC3=CC(=CC=C3[C@@]1(C)CCC[C...</td>\n",
       "      <td>NCGC00255644-01</td>\n",
       "      <td>0</td>\n",
       "    </tr>\n",
       "    <tr>\n",
       "      <th>1</th>\n",
       "      <td>Cl.C[C@@H](NCCCC1=CC=CC(=C1)C(F)(F)F)C2=CC=CC3...</td>\n",
       "      <td>NCGC00181002-01</td>\n",
       "      <td>0</td>\n",
       "    </tr>\n",
       "    <tr>\n",
       "      <th>2</th>\n",
       "      <td>CC(C)OC(=O)C1=C(C)NC(N)=C(C1C2=CC(=CC=C2)[N+](...</td>\n",
       "      <td>NCGC00167436-01</td>\n",
       "      <td>0</td>\n",
       "    </tr>\n",
       "    <tr>\n",
       "      <th>3</th>\n",
       "      <td>Cl.CN(C)C(=O)C1(CCN(CCC2(CN(CCO2)C(=O)C3=CC=CC...</td>\n",
       "      <td>NCGC00254013-01</td>\n",
       "      <td>0</td>\n",
       "    </tr>\n",
       "    <tr>\n",
       "      <th>4</th>\n",
       "      <td>Cl.CCOC(=O)O[C@H](C)OC(=O)C1=CC=C2N(CC3=NOC(=C...</td>\n",
       "      <td>NCGC00254071-01</td>\n",
       "      <td>0</td>\n",
       "    </tr>\n",
       "  </tbody>\n",
       "</table>\n",
       "</div>"
      ],
      "text/plain": [
       "                                           compounds               id  label\n",
       "0  CC(O)=O.[H][C@@]12CCC3=CC(=CC=C3[C@@]1(C)CCC[C...  NCGC00255644-01      0\n",
       "1  Cl.C[C@@H](NCCCC1=CC=CC(=C1)C(F)(F)F)C2=CC=CC3...  NCGC00181002-01      0\n",
       "2  CC(C)OC(=O)C1=C(C)NC(N)=C(C1C2=CC(=CC=C2)[N+](...  NCGC00167436-01      0\n",
       "3  Cl.CN(C)C(=O)C1(CCN(CCC2(CN(CCO2)C(=O)C3=CC=CC...  NCGC00254013-01      0\n",
       "4  Cl.CCOC(=O)O[C@H](C)OC(=O)C1=CC=C2N(CC3=NOC(=C...  NCGC00254071-01      0"
      ]
     },
     "execution_count": 2,
     "metadata": {},
     "output_type": "execute_result"
    }
   ],
   "source": [
    "# read tox21 train dataset with labels\n",
    "# selected nr_ahr assay for final project\n",
    "nr_ahr = pd.read_csv('../raw_data/nr-ahr.smiles', sep='\\t', header=None)\n",
    "nr_ahr = nr_ahr.rename(columns={0: 'compounds', 1: 'id', 2: 'label'})\n",
    "nr_ahr.head()"
   ]
  },
  {
   "cell_type": "code",
   "execution_count": 3,
   "metadata": {},
   "outputs": [
    {
     "name": "stdout",
     "output_type": "stream",
     "text": [
      "Number of compounds in raw dataset: 8169\n",
      "Number of unique compounds: 6716\n"
     ]
    }
   ],
   "source": [
    "# check train dataset for duplicates\n",
    "print('Number of compounds in raw dataset:', len(nr_ahr['compounds']))\n",
    "print('Number of unique compounds:', len(nr_ahr['compounds'].unique()))"
   ]
  },
  {
   "cell_type": "code",
   "execution_count": 4,
   "metadata": {},
   "outputs": [
    {
     "data": {
      "text/plain": [
       "6716"
      ]
     },
     "execution_count": 4,
     "metadata": {},
     "output_type": "execute_result"
    }
   ],
   "source": [
    "# remove duplicates\n",
    "nr_ahr = nr_ahr.drop_duplicates(subset='compounds').reset_index(drop=True)\n",
    "len(nr_ahr)"
   ]
  },
  {
   "cell_type": "code",
   "execution_count": 5,
   "metadata": {},
   "outputs": [
    {
     "data": {
      "text/plain": [
       "array([0, 1])"
      ]
     },
     "execution_count": 5,
     "metadata": {},
     "output_type": "execute_result"
    }
   ],
   "source": [
    "# check label column for inconclusive or tests not run (x)\n",
    "nr_ahr.label.unique()"
   ]
  },
  {
   "cell_type": "code",
   "execution_count": 6,
   "metadata": {},
   "outputs": [],
   "source": [
    "# generate duplicate-free training dataset csv file\n",
    "#nr_ahr.to_csv('../processed_data/nr_ahr_train.csv')"
   ]
  },
  {
   "cell_type": "code",
   "execution_count": 7,
   "metadata": {},
   "outputs": [
    {
     "name": "stdout",
     "output_type": "stream",
     "text": [
      "6716\n",
      "6716\n"
     ]
    }
   ],
   "source": [
    "# split into train_data and train_labels\n",
    "train_data = nr_ahr['compounds']\n",
    "train_labels = nr_ahr['label']\n",
    "\n",
    "print(len(train_data))\n",
    "print(len(train_labels))"
   ]
  },
  {
   "cell_type": "markdown",
   "metadata": {},
   "source": [
    "### Standardize train data using MolVS"
   ]
  },
  {
   "cell_type": "code",
   "execution_count": 8,
   "metadata": {},
   "outputs": [
    {
     "name": "stderr",
     "output_type": "stream",
     "text": [
      "RDKit ERROR: [10:32:27] Explicit valence for atom # 3 Si, 8, is greater than permitted\n"
     ]
    },
    {
     "name": "stdout",
     "output_type": "stream",
     "text": [
      "Error at index 1390: '[NH4+].[NH4+].F[Si--](F)(F)(F)(F)F'\n",
      "Explicit valence for atom # 3 Si, 8, is greater than permitted\n"
     ]
    },
    {
     "name": "stderr",
     "output_type": "stream",
     "text": [
      "RDKit ERROR: [10:32:29] Explicit valence for atom # 0 Cl, 2, is greater than permitted\n"
     ]
    },
    {
     "name": "stdout",
     "output_type": "stream",
     "text": [
      "Error at index 2245: '[Cl-][Pt]1([Cl-])NCCN1'\n",
      "Explicit valence for atom # 0 Cl, 2, is greater than permitted\n"
     ]
    },
    {
     "name": "stderr",
     "output_type": "stream",
     "text": [
      "RDKit ERROR: [10:32:29] Can't kekulize mol.  Unkekulized atoms: 3 10\n",
      "RDKit ERROR: \n",
      "RDKit ERROR: [10:32:30] Explicit valence for atom # 2 Cl, 2, is greater than permitted\n"
     ]
    },
    {
     "name": "stdout",
     "output_type": "stream",
     "text": [
      "Error at index 3758: '[NH4+].[NH4+].[Cl-][Pt++]([Cl-])([Cl-])[Cl-]'\n",
      "Explicit valence for atom # 2 Cl, 2, is greater than permitted\n"
     ]
    },
    {
     "name": "stderr",
     "output_type": "stream",
     "text": [
      "RDKit WARNING: [10:32:31] WARNING: not removing hydrogen atom without neighbors\n",
      "RDKit ERROR: [10:32:32] Explicit valence for atom # 3 Si, 8, is greater than permitted\n"
     ]
    },
    {
     "name": "stdout",
     "output_type": "stream",
     "text": [
      "Error at index 5524: '[Na+].[Na+].F[Si--](F)(F)(F)(F)F'\n",
      "Explicit valence for atom # 3 Si, 8, is greater than permitted\n"
     ]
    },
    {
     "name": "stderr",
     "output_type": "stream",
     "text": [
      "RDKit ERROR: [10:32:33] Explicit valence for atom # 7 Mg, 4, is greater than permitted\n"
     ]
    },
    {
     "name": "stdout",
     "output_type": "stream",
     "text": [
      "Error at index 6369: 'O.O.O.O.O=C1O[Mg]2(OC(=O)C3=CC=CC=C3O2)OC4=CC=CC=C14'\n",
      "Explicit valence for atom # 7 Mg, 4, is greater than permitted\n",
      "\n",
      "Number of rows with errors: 5\n"
     ]
    }
   ],
   "source": [
    "# identify rows with SMILES errors\n",
    "train_error_rows = []\n",
    "\n",
    "for i, row in enumerate(nr_ahr.compounds):\n",
    "    try:\n",
    "        standardize_smiles(row)\n",
    "    except Exception as e: \n",
    "        print('Error at index {}: {!r}'.format(i, row))\n",
    "        print(e)\n",
    "        train_error_rows.append(i)\n",
    "\n",
    "print()\n",
    "print('Number of rows with errors:', len(train_error_rows))"
   ]
  },
  {
   "cell_type": "code",
   "execution_count": 9,
   "metadata": {},
   "outputs": [],
   "source": [
    "# add error rows that were missed by for loop\n",
    "train_error_rows.append(2888)\n",
    "train_error_rows.append(4194)"
   ]
  },
  {
   "cell_type": "code",
   "execution_count": 10,
   "metadata": {},
   "outputs": [
    {
     "name": "stdout",
     "output_type": "stream",
     "text": [
      "7\n",
      "6709\n"
     ]
    }
   ],
   "source": [
    "# remove rows with SMILES errors\n",
    "train_drop_rows = [nr_ahr.index[i] for i in train_error_rows]\n",
    "print(len(train_drop_rows))\n",
    "\n",
    "nr_ahr_std = nr_ahr.drop(train_drop_rows).reset_index(drop=True)\n",
    "print(len(nr_ahr_std))"
   ]
  },
  {
   "cell_type": "code",
   "execution_count": 11,
   "metadata": {},
   "outputs": [
    {
     "name": "stdout",
     "output_type": "stream",
     "text": [
      "6709\n"
     ]
    },
    {
     "data": {
      "text/html": [
       "<div>\n",
       "<style scoped>\n",
       "    .dataframe tbody tr th:only-of-type {\n",
       "        vertical-align: middle;\n",
       "    }\n",
       "\n",
       "    .dataframe tbody tr th {\n",
       "        vertical-align: top;\n",
       "    }\n",
       "\n",
       "    .dataframe thead th {\n",
       "        text-align: right;\n",
       "    }\n",
       "</style>\n",
       "<table border=\"1\" class=\"dataframe\">\n",
       "  <thead>\n",
       "    <tr style=\"text-align: right;\">\n",
       "      <th></th>\n",
       "      <th>compounds</th>\n",
       "      <th>id</th>\n",
       "      <th>label</th>\n",
       "      <th>std_compounds</th>\n",
       "    </tr>\n",
       "  </thead>\n",
       "  <tbody>\n",
       "    <tr>\n",
       "      <th>0</th>\n",
       "      <td>CC(O)=O.[H][C@@]12CCC3=CC(=CC=C3[C@@]1(C)CCC[C...</td>\n",
       "      <td>NCGC00255644-01</td>\n",
       "      <td>0</td>\n",
       "      <td>CC(=O)O.CC(C)c1ccc2c(c1)CC[C@@H]1[C@]2(C)CCC[C...</td>\n",
       "    </tr>\n",
       "    <tr>\n",
       "      <th>1</th>\n",
       "      <td>Cl.C[C@@H](NCCCC1=CC=CC(=C1)C(F)(F)F)C2=CC=CC3...</td>\n",
       "      <td>NCGC00181002-01</td>\n",
       "      <td>0</td>\n",
       "      <td>C[C@@H](NCCCc1cccc(C(F)(F)F)c1)c1cccc2ccccc12.Cl</td>\n",
       "    </tr>\n",
       "    <tr>\n",
       "      <th>2</th>\n",
       "      <td>CC(C)OC(=O)C1=C(C)NC(N)=C(C1C2=CC(=CC=C2)[N+](...</td>\n",
       "      <td>NCGC00167436-01</td>\n",
       "      <td>0</td>\n",
       "      <td>CC1=C(C(=O)OC(C)C)C(c2cccc([N+](=O)[O-])c2)C(C...</td>\n",
       "    </tr>\n",
       "    <tr>\n",
       "      <th>3</th>\n",
       "      <td>Cl.CN(C)C(=O)C1(CCN(CCC2(CN(CCO2)C(=O)C3=CC=CC...</td>\n",
       "      <td>NCGC00254013-01</td>\n",
       "      <td>0</td>\n",
       "      <td>CN(C)C(=O)C1(N2CCCCC2)CCN(CCC2(c3ccc(Cl)c(Cl)c...</td>\n",
       "    </tr>\n",
       "    <tr>\n",
       "      <th>4</th>\n",
       "      <td>Cl.CCOC(=O)O[C@H](C)OC(=O)C1=CC=C2N(CC3=NOC(=C...</td>\n",
       "      <td>NCGC00254071-01</td>\n",
       "      <td>0</td>\n",
       "      <td>CCOC(=O)O[C@H](C)OC(=O)c1ccc2c(c1)cc(C(=O)NC1C...</td>\n",
       "    </tr>\n",
       "  </tbody>\n",
       "</table>\n",
       "</div>"
      ],
      "text/plain": [
       "                                           compounds               id  label  \\\n",
       "0  CC(O)=O.[H][C@@]12CCC3=CC(=CC=C3[C@@]1(C)CCC[C...  NCGC00255644-01      0   \n",
       "1  Cl.C[C@@H](NCCCC1=CC=CC(=C1)C(F)(F)F)C2=CC=CC3...  NCGC00181002-01      0   \n",
       "2  CC(C)OC(=O)C1=C(C)NC(N)=C(C1C2=CC(=CC=C2)[N+](...  NCGC00167436-01      0   \n",
       "3  Cl.CN(C)C(=O)C1(CCN(CCC2(CN(CCO2)C(=O)C3=CC=CC...  NCGC00254013-01      0   \n",
       "4  Cl.CCOC(=O)O[C@H](C)OC(=O)C1=CC=C2N(CC3=NOC(=C...  NCGC00254071-01      0   \n",
       "\n",
       "                                       std_compounds  \n",
       "0  CC(=O)O.CC(C)c1ccc2c(c1)CC[C@@H]1[C@]2(C)CCC[C...  \n",
       "1   C[C@@H](NCCCc1cccc(C(F)(F)F)c1)c1cccc2ccccc12.Cl  \n",
       "2  CC1=C(C(=O)OC(C)C)C(c2cccc([N+](=O)[O-])c2)C(C...  \n",
       "3  CN(C)C(=O)C1(N2CCCCC2)CCN(CCC2(c3ccc(Cl)c(Cl)c...  \n",
       "4  CCOC(=O)O[C@H](C)OC(=O)c1ccc2c(c1)cc(C(=O)NC1C...  "
      ]
     },
     "execution_count": 11,
     "metadata": {},
     "output_type": "execute_result"
    }
   ],
   "source": [
    "# standardize compound SMILES using MolVS\n",
    "nr_ahr_std['std_compounds'] = nr_ahr_std.compounds.map(lambda x: standardize_smiles(x))\n",
    "print(len(nr_ahr_std))\n",
    "nr_ahr_std.head()"
   ]
  },
  {
   "cell_type": "code",
   "execution_count": 12,
   "metadata": {},
   "outputs": [],
   "source": [
    "# generate standardized training dataset csv file\n",
    "#nr_ahr_std.to_csv('../processed_data/nr_ahr_std_train.csv')"
   ]
  },
  {
   "cell_type": "code",
   "execution_count": 12,
   "metadata": {},
   "outputs": [
    {
     "name": "stdout",
     "output_type": "stream",
     "text": [
      "6709\n",
      "6709\n"
     ]
    }
   ],
   "source": [
    "# split into train_data and train_labels\n",
    "train_data_std = nr_ahr_std['compounds']\n",
    "train_labels_std = nr_ahr_std['label']\n",
    "\n",
    "print(len(train_data_std))\n",
    "print(len(train_labels_std))"
   ]
  },
  {
   "cell_type": "markdown",
   "metadata": {},
   "source": [
    "### Generate test data and labels (without standardizing)"
   ]
  },
  {
   "cell_type": "code",
   "execution_count": 15,
   "metadata": {},
   "outputs": [
    {
     "data": {
      "text/html": [
       "<div>\n",
       "<style scoped>\n",
       "    .dataframe tbody tr th:only-of-type {\n",
       "        vertical-align: middle;\n",
       "    }\n",
       "\n",
       "    .dataframe tbody tr th {\n",
       "        vertical-align: top;\n",
       "    }\n",
       "\n",
       "    .dataframe thead th {\n",
       "        text-align: right;\n",
       "    }\n",
       "</style>\n",
       "<table border=\"1\" class=\"dataframe\">\n",
       "  <thead>\n",
       "    <tr style=\"text-align: right;\">\n",
       "      <th></th>\n",
       "      <th>compounds</th>\n",
       "      <th>id</th>\n",
       "    </tr>\n",
       "  </thead>\n",
       "  <tbody>\n",
       "    <tr>\n",
       "      <th>0</th>\n",
       "      <td>OC(=O)\\C=C/C(O)=O.C[C@]12CC=C3[C@@H](CCC4=CC(=...</td>\n",
       "      <td>NCGC00261900-01</td>\n",
       "    </tr>\n",
       "    <tr>\n",
       "      <th>1</th>\n",
       "      <td>[Na+].NC1=NC=NC2=C1N=C(Br)N2C1OC2CO[P@]([O-])(...</td>\n",
       "      <td>NCGC00260869-01</td>\n",
       "    </tr>\n",
       "    <tr>\n",
       "      <th>2</th>\n",
       "      <td>O=C1N2CCC3=C(NC4=C3C=CC=C4)C2=NC2=C1C=CC=C2</td>\n",
       "      <td>NCGC00261776-01</td>\n",
       "    </tr>\n",
       "    <tr>\n",
       "      <th>3</th>\n",
       "      <td>Cl.FC1=CC=C(C=C1)C(OCCCC1=CNC=N1)C1=CC=C(F)C=C1</td>\n",
       "      <td>NCGC00261380-01</td>\n",
       "    </tr>\n",
       "    <tr>\n",
       "      <th>4</th>\n",
       "      <td>CC1=CC=C(C=C1)S(=O)(=O)N[C@@H](CC1=CC=CC=C1)C(...</td>\n",
       "      <td>NCGC00261842-01</td>\n",
       "    </tr>\n",
       "  </tbody>\n",
       "</table>\n",
       "</div>"
      ],
      "text/plain": [
       "                                           compounds               id\n",
       "0  OC(=O)\\C=C/C(O)=O.C[C@]12CC=C3[C@@H](CCC4=CC(=...  NCGC00261900-01\n",
       "1  [Na+].NC1=NC=NC2=C1N=C(Br)N2C1OC2CO[P@]([O-])(...  NCGC00260869-01\n",
       "2        O=C1N2CCC3=C(NC4=C3C=CC=C4)C2=NC2=C1C=CC=C2  NCGC00261776-01\n",
       "3    Cl.FC1=CC=C(C=C1)C(OCCCC1=CNC=N1)C1=CC=C(F)C=C1  NCGC00261380-01\n",
       "4  CC1=CC=C(C=C1)S(=O)(=O)N[C@@H](CC1=CC=CC=C1)C(...  NCGC00261842-01"
      ]
     },
     "execution_count": 15,
     "metadata": {},
     "output_type": "execute_result"
    }
   ],
   "source": [
    "# read tox21 score dataset\n",
    "score = pd.read_csv('../raw_data/tox21_10k_challenge_score.smiles', sep='\\t')\n",
    "score = score.rename(columns={'#SMILES': 'compounds', 'Sample ID': 'id'})\n",
    "score.head()"
   ]
  },
  {
   "cell_type": "code",
   "execution_count": 17,
   "metadata": {},
   "outputs": [
    {
     "data": {
      "text/html": [
       "<div>\n",
       "<style scoped>\n",
       "    .dataframe tbody tr th:only-of-type {\n",
       "        vertical-align: middle;\n",
       "    }\n",
       "\n",
       "    .dataframe tbody tr th {\n",
       "        vertical-align: top;\n",
       "    }\n",
       "\n",
       "    .dataframe thead th {\n",
       "        text-align: right;\n",
       "    }\n",
       "</style>\n",
       "<table border=\"1\" class=\"dataframe\">\n",
       "  <thead>\n",
       "    <tr style=\"text-align: right;\">\n",
       "      <th></th>\n",
       "      <th>Sample ID</th>\n",
       "      <th>NR-AhR</th>\n",
       "      <th>NR-AR</th>\n",
       "      <th>NR-AR-LBD</th>\n",
       "      <th>NR-Aromatase</th>\n",
       "      <th>NR-ER</th>\n",
       "      <th>NR-ER-LBD</th>\n",
       "      <th>NR-PPAR-gamma</th>\n",
       "      <th>SR-ARE</th>\n",
       "      <th>SR-ATAD5</th>\n",
       "      <th>SR-HSE</th>\n",
       "      <th>SR-MMP</th>\n",
       "      <th>SR-p53</th>\n",
       "    </tr>\n",
       "  </thead>\n",
       "  <tbody>\n",
       "    <tr>\n",
       "      <th>0</th>\n",
       "      <td>NCGC00261900-01</td>\n",
       "      <td>0</td>\n",
       "      <td>1</td>\n",
       "      <td>x</td>\n",
       "      <td>0</td>\n",
       "      <td>0</td>\n",
       "      <td>0</td>\n",
       "      <td>0</td>\n",
       "      <td>x</td>\n",
       "      <td>0</td>\n",
       "      <td>0</td>\n",
       "      <td>x</td>\n",
       "      <td>0</td>\n",
       "    </tr>\n",
       "    <tr>\n",
       "      <th>1</th>\n",
       "      <td>NCGC00260869-01</td>\n",
       "      <td>0</td>\n",
       "      <td>1</td>\n",
       "      <td>x</td>\n",
       "      <td>x</td>\n",
       "      <td>0</td>\n",
       "      <td>0</td>\n",
       "      <td>0</td>\n",
       "      <td>0</td>\n",
       "      <td>0</td>\n",
       "      <td>0</td>\n",
       "      <td>0</td>\n",
       "      <td>0</td>\n",
       "    </tr>\n",
       "    <tr>\n",
       "      <th>2</th>\n",
       "      <td>NCGC00261776-01</td>\n",
       "      <td>1</td>\n",
       "      <td>1</td>\n",
       "      <td>0</td>\n",
       "      <td>x</td>\n",
       "      <td>1</td>\n",
       "      <td>0</td>\n",
       "      <td>0</td>\n",
       "      <td>1</td>\n",
       "      <td>1</td>\n",
       "      <td>0</td>\n",
       "      <td>1</td>\n",
       "      <td>0</td>\n",
       "    </tr>\n",
       "    <tr>\n",
       "      <th>3</th>\n",
       "      <td>NCGC00261380-01</td>\n",
       "      <td>x</td>\n",
       "      <td>0</td>\n",
       "      <td>x</td>\n",
       "      <td>1</td>\n",
       "      <td>0</td>\n",
       "      <td>x</td>\n",
       "      <td>x</td>\n",
       "      <td>1</td>\n",
       "      <td>0</td>\n",
       "      <td>x</td>\n",
       "      <td>0</td>\n",
       "      <td>x</td>\n",
       "    </tr>\n",
       "    <tr>\n",
       "      <th>4</th>\n",
       "      <td>NCGC00261842-01</td>\n",
       "      <td>0</td>\n",
       "      <td>0</td>\n",
       "      <td>0</td>\n",
       "      <td>x</td>\n",
       "      <td>0</td>\n",
       "      <td>0</td>\n",
       "      <td>0</td>\n",
       "      <td>0</td>\n",
       "      <td>0</td>\n",
       "      <td>0</td>\n",
       "      <td>x</td>\n",
       "      <td>1</td>\n",
       "    </tr>\n",
       "  </tbody>\n",
       "</table>\n",
       "</div>"
      ],
      "text/plain": [
       "         Sample ID NR-AhR NR-AR NR-AR-LBD NR-Aromatase NR-ER NR-ER-LBD  \\\n",
       "0  NCGC00261900-01      0     1         x            0     0         0   \n",
       "1  NCGC00260869-01      0     1         x            x     0         0   \n",
       "2  NCGC00261776-01      1     1         0            x     1         0   \n",
       "3  NCGC00261380-01      x     0         x            1     0         x   \n",
       "4  NCGC00261842-01      0     0         0            x     0         0   \n",
       "\n",
       "  NR-PPAR-gamma SR-ARE SR-ATAD5 SR-HSE SR-MMP SR-p53  \n",
       "0             0      x        0      0      x      0  \n",
       "1             0      0        0      0      0      0  \n",
       "2             0      1        1      0      1      0  \n",
       "3             x      1        0      x      0      x  \n",
       "4             0      0        0      0      x      1  "
      ]
     },
     "execution_count": 17,
     "metadata": {},
     "output_type": "execute_result"
    }
   ],
   "source": [
    "# read tox21 score labels\n",
    "score_results = pd.read_csv('../raw_data/tox21_10k_challenge_score.txt', sep='\\t')\n",
    "score_results.head()"
   ]
  },
  {
   "cell_type": "code",
   "execution_count": 18,
   "metadata": {},
   "outputs": [
    {
     "data": {
      "text/html": [
       "<div>\n",
       "<style scoped>\n",
       "    .dataframe tbody tr th:only-of-type {\n",
       "        vertical-align: middle;\n",
       "    }\n",
       "\n",
       "    .dataframe tbody tr th {\n",
       "        vertical-align: top;\n",
       "    }\n",
       "\n",
       "    .dataframe thead th {\n",
       "        text-align: right;\n",
       "    }\n",
       "</style>\n",
       "<table border=\"1\" class=\"dataframe\">\n",
       "  <thead>\n",
       "    <tr style=\"text-align: right;\">\n",
       "      <th></th>\n",
       "      <th>id</th>\n",
       "      <th>label</th>\n",
       "    </tr>\n",
       "  </thead>\n",
       "  <tbody>\n",
       "    <tr>\n",
       "      <th>0</th>\n",
       "      <td>NCGC00261900-01</td>\n",
       "      <td>0</td>\n",
       "    </tr>\n",
       "    <tr>\n",
       "      <th>1</th>\n",
       "      <td>NCGC00260869-01</td>\n",
       "      <td>0</td>\n",
       "    </tr>\n",
       "    <tr>\n",
       "      <th>2</th>\n",
       "      <td>NCGC00261776-01</td>\n",
       "      <td>1</td>\n",
       "    </tr>\n",
       "    <tr>\n",
       "      <th>3</th>\n",
       "      <td>NCGC00261380-01</td>\n",
       "      <td>x</td>\n",
       "    </tr>\n",
       "    <tr>\n",
       "      <th>4</th>\n",
       "      <td>NCGC00261842-01</td>\n",
       "      <td>0</td>\n",
       "    </tr>\n",
       "  </tbody>\n",
       "</table>\n",
       "</div>"
      ],
      "text/plain": [
       "                id label\n",
       "0  NCGC00261900-01     0\n",
       "1  NCGC00260869-01     0\n",
       "2  NCGC00261776-01     1\n",
       "3  NCGC00261380-01     x\n",
       "4  NCGC00261842-01     0"
      ]
     },
     "execution_count": 18,
     "metadata": {},
     "output_type": "execute_result"
    }
   ],
   "source": [
    "# pick out NR-AhR labels\n",
    "score_results = score_results[['Sample ID', 'NR-AhR']]\n",
    "score_results = score_results.rename(columns={'Sample ID': 'id', 'NR-AhR': 'label'})\n",
    "score_results.head()"
   ]
  },
  {
   "cell_type": "code",
   "execution_count": 19,
   "metadata": {},
   "outputs": [
    {
     "data": {
      "text/html": [
       "<div>\n",
       "<style scoped>\n",
       "    .dataframe tbody tr th:only-of-type {\n",
       "        vertical-align: middle;\n",
       "    }\n",
       "\n",
       "    .dataframe tbody tr th {\n",
       "        vertical-align: top;\n",
       "    }\n",
       "\n",
       "    .dataframe thead th {\n",
       "        text-align: right;\n",
       "    }\n",
       "</style>\n",
       "<table border=\"1\" class=\"dataframe\">\n",
       "  <thead>\n",
       "    <tr style=\"text-align: right;\">\n",
       "      <th></th>\n",
       "      <th>compounds</th>\n",
       "      <th>id</th>\n",
       "      <th>label</th>\n",
       "    </tr>\n",
       "  </thead>\n",
       "  <tbody>\n",
       "    <tr>\n",
       "      <th>0</th>\n",
       "      <td>OC(=O)\\C=C/C(O)=O.C[C@]12CC=C3[C@@H](CCC4=CC(=...</td>\n",
       "      <td>NCGC00261900-01</td>\n",
       "      <td>0</td>\n",
       "    </tr>\n",
       "    <tr>\n",
       "      <th>1</th>\n",
       "      <td>[Na+].NC1=NC=NC2=C1N=C(Br)N2C1OC2CO[P@]([O-])(...</td>\n",
       "      <td>NCGC00260869-01</td>\n",
       "      <td>0</td>\n",
       "    </tr>\n",
       "    <tr>\n",
       "      <th>2</th>\n",
       "      <td>O=C1N2CCC3=C(NC4=C3C=CC=C4)C2=NC2=C1C=CC=C2</td>\n",
       "      <td>NCGC00261776-01</td>\n",
       "      <td>1</td>\n",
       "    </tr>\n",
       "    <tr>\n",
       "      <th>3</th>\n",
       "      <td>Cl.FC1=CC=C(C=C1)C(OCCCC1=CNC=N1)C1=CC=C(F)C=C1</td>\n",
       "      <td>NCGC00261380-01</td>\n",
       "      <td>x</td>\n",
       "    </tr>\n",
       "    <tr>\n",
       "      <th>4</th>\n",
       "      <td>CC1=CC=C(C=C1)S(=O)(=O)N[C@@H](CC1=CC=CC=C1)C(...</td>\n",
       "      <td>NCGC00261842-01</td>\n",
       "      <td>0</td>\n",
       "    </tr>\n",
       "  </tbody>\n",
       "</table>\n",
       "</div>"
      ],
      "text/plain": [
       "                                           compounds               id label\n",
       "0  OC(=O)\\C=C/C(O)=O.C[C@]12CC=C3[C@@H](CCC4=CC(=...  NCGC00261900-01     0\n",
       "1  [Na+].NC1=NC=NC2=C1N=C(Br)N2C1OC2CO[P@]([O-])(...  NCGC00260869-01     0\n",
       "2        O=C1N2CCC3=C(NC4=C3C=CC=C4)C2=NC2=C1C=CC=C2  NCGC00261776-01     1\n",
       "3    Cl.FC1=CC=C(C=C1)C(OCCCC1=CNC=N1)C1=CC=C(F)C=C1  NCGC00261380-01     x\n",
       "4  CC1=CC=C(C=C1)S(=O)(=O)N[C@@H](CC1=CC=CC=C1)C(...  NCGC00261842-01     0"
      ]
     },
     "execution_count": 19,
     "metadata": {},
     "output_type": "execute_result"
    }
   ],
   "source": [
    "# merge score dataset with NR-AhR labels using compound ID\n",
    "nr_ahr_test = score.merge(score_results, on='id')\n",
    "nr_ahr_test.head()"
   ]
  },
  {
   "cell_type": "code",
   "execution_count": 20,
   "metadata": {},
   "outputs": [
    {
     "name": "stdout",
     "output_type": "stream",
     "text": [
      "Number of compounds in raw dataset: 647\n",
      "Number of unique compounds: 646\n"
     ]
    }
   ],
   "source": [
    "# check test dataset for duplicates\n",
    "print('Number of compounds in raw dataset:', len(nr_ahr_test['compounds']))\n",
    "print('Number of unique compounds:', len(nr_ahr_test['compounds'].unique()))"
   ]
  },
  {
   "cell_type": "code",
   "execution_count": 21,
   "metadata": {},
   "outputs": [
    {
     "data": {
      "text/plain": [
       "646"
      ]
     },
     "execution_count": 21,
     "metadata": {},
     "output_type": "execute_result"
    }
   ],
   "source": [
    "# remove duplicates\n",
    "nr_ahr_test = nr_ahr_test.drop_duplicates(subset='compounds').reset_index(drop=True)\n",
    "len(nr_ahr_test)"
   ]
  },
  {
   "cell_type": "code",
   "execution_count": 22,
   "metadata": {},
   "outputs": [
    {
     "data": {
      "text/plain": [
       "array(['0', '1', 'x'], dtype=object)"
      ]
     },
     "execution_count": 22,
     "metadata": {},
     "output_type": "execute_result"
    }
   ],
   "source": [
    "# check label column for inconclusive/tests not run (x)\n",
    "nr_ahr_test.label.unique()"
   ]
  },
  {
   "cell_type": "code",
   "execution_count": 23,
   "metadata": {},
   "outputs": [
    {
     "name": "stdout",
     "output_type": "stream",
     "text": [
      "['0' '1']\n",
      "609\n"
     ]
    }
   ],
   "source": [
    "# remove rows with inconclusive/tests not run (x)\n",
    "nr_ahr_test = nr_ahr_test[nr_ahr_test.label != 'x']\n",
    "print(nr_ahr_test.label.unique())\n",
    "print(len(nr_ahr_test))"
   ]
  },
  {
   "cell_type": "code",
   "execution_count": 24,
   "metadata": {},
   "outputs": [],
   "source": [
    "# generate duplicate-free training dataset csv file\n",
    "#nr_ahr_test.to_csv('../processed_data/nr_ahr_test.csv')"
   ]
  },
  {
   "cell_type": "code",
   "execution_count": 25,
   "metadata": {},
   "outputs": [
    {
     "name": "stdout",
     "output_type": "stream",
     "text": [
      "609\n",
      "609\n"
     ]
    }
   ],
   "source": [
    "# split into test_data and test_labels\n",
    "test_data = nr_ahr_test['compounds']\n",
    "test_labels = nr_ahr_test['label']\n",
    "\n",
    "print(len(test_data))\n",
    "print(len(test_labels))"
   ]
  },
  {
   "cell_type": "markdown",
   "metadata": {},
   "source": [
    "### Standardize test data using MolVS"
   ]
  },
  {
   "cell_type": "code",
   "execution_count": 26,
   "metadata": {},
   "outputs": [
    {
     "name": "stderr",
     "output_type": "stream",
     "text": [
      "RDKit ERROR: [10:35:47] Can't kekulize mol.  Unkekulized atoms: 4 5 6 7 10\n",
      "RDKit ERROR: \n",
      "RDKit ERROR: [10:35:47] Can't kekulize mol.  Unkekulized atoms: 6 7 8 9 10 11 12 13 14\n",
      "RDKit ERROR: \n"
     ]
    },
    {
     "name": "stdout",
     "output_type": "stream",
     "text": [
      "Error at index 303: 'FC(F)(F)c1nc(c(C#N)c1Br)C1=CC=C(Cl)C=C1'\n",
      "Can't kekulize mol.  Unkekulized atoms: 4 5 6 7 10\n",
      "\n",
      "Error at index 344: 'C1=CC=C(C=C1)c1nc2ccccc2n1'\n",
      "Can't kekulize mol.  Unkekulized atoms: 6 7 8 9 10 11 12 13 14\n",
      "\n",
      "\n",
      "Number of rows with errors: 0\n"
     ]
    }
   ],
   "source": [
    "# identify rows with SMILES errors\n",
    "test_error_rows = []\n",
    "\n",
    "for i, row in enumerate(nr_ahr_test.compounds):\n",
    "    try:\n",
    "        standardize_smiles(row)\n",
    "    except Exception as e: \n",
    "        print('Error at index {}: {!r}'.format(i, row))\n",
    "        print(e)\n",
    "        train_error_rows.append(i)\n",
    "\n",
    "print()\n",
    "print('Number of rows with errors:', len(test_error_rows))"
   ]
  },
  {
   "cell_type": "code",
   "execution_count": 27,
   "metadata": {},
   "outputs": [],
   "source": [
    "# add error rows that were missed by the for loop\n",
    "test_error_rows = [303, 344]"
   ]
  },
  {
   "cell_type": "code",
   "execution_count": 28,
   "metadata": {},
   "outputs": [
    {
     "name": "stdout",
     "output_type": "stream",
     "text": [
      "2\n",
      "607\n"
     ]
    }
   ],
   "source": [
    "# remove rows with SMILES errors\n",
    "test_drop_rows = [nr_ahr_test.index[i] for i in test_error_rows]\n",
    "print(len(test_drop_rows))\n",
    "\n",
    "nr_ahr_test_std = nr_ahr_test.drop(test_drop_rows).reset_index(drop=True)\n",
    "\n",
    "print(len(nr_ahr_test_std))"
   ]
  },
  {
   "cell_type": "code",
   "execution_count": 29,
   "metadata": {},
   "outputs": [
    {
     "name": "stdout",
     "output_type": "stream",
     "text": [
      "607\n"
     ]
    },
    {
     "data": {
      "text/html": [
       "<div>\n",
       "<style scoped>\n",
       "    .dataframe tbody tr th:only-of-type {\n",
       "        vertical-align: middle;\n",
       "    }\n",
       "\n",
       "    .dataframe tbody tr th {\n",
       "        vertical-align: top;\n",
       "    }\n",
       "\n",
       "    .dataframe thead th {\n",
       "        text-align: right;\n",
       "    }\n",
       "</style>\n",
       "<table border=\"1\" class=\"dataframe\">\n",
       "  <thead>\n",
       "    <tr style=\"text-align: right;\">\n",
       "      <th></th>\n",
       "      <th>compounds</th>\n",
       "      <th>id</th>\n",
       "      <th>label</th>\n",
       "      <th>std_compounds</th>\n",
       "    </tr>\n",
       "  </thead>\n",
       "  <tbody>\n",
       "    <tr>\n",
       "      <th>0</th>\n",
       "      <td>OC(=O)\\C=C/C(O)=O.C[C@]12CC=C3[C@@H](CCC4=CC(=...</td>\n",
       "      <td>NCGC00261900-01</td>\n",
       "      <td>0</td>\n",
       "      <td>C[C@]12C=CC(=O)C=C1CC[C@@H]1C2=CC[C@]2(C)[C@@H...</td>\n",
       "    </tr>\n",
       "    <tr>\n",
       "      <th>1</th>\n",
       "      <td>[Na+].NC1=NC=NC2=C1N=C(Br)N2C1OC2CO[P@]([O-])(...</td>\n",
       "      <td>NCGC00260869-01</td>\n",
       "      <td>0</td>\n",
       "      <td>Nc1ncnc2c1nc(Br)n2C1OC2CO[P@@](=O)([O-])O[C@@H...</td>\n",
       "    </tr>\n",
       "    <tr>\n",
       "      <th>2</th>\n",
       "      <td>O=C1N2CCC3=C(NC4=C3C=CC=C4)C2=NC2=C1C=CC=C2</td>\n",
       "      <td>NCGC00261776-01</td>\n",
       "      <td>1</td>\n",
       "      <td>O=c1c2ccccc2nc2n1CCc1c-2[nH]c2ccccc12</td>\n",
       "    </tr>\n",
       "    <tr>\n",
       "      <th>3</th>\n",
       "      <td>CC1=CC=C(C=C1)S(=O)(=O)N[C@@H](CC1=CC=CC=C1)C(...</td>\n",
       "      <td>NCGC00261842-01</td>\n",
       "      <td>0</td>\n",
       "      <td>Cc1ccc(S(=O)(=O)N[C@@H](Cc2ccccc2)C(=O)CCl)cc1</td>\n",
       "    </tr>\n",
       "    <tr>\n",
       "      <th>4</th>\n",
       "      <td>Cl.NC1=CC=C(C=C1)C1=NC2=CC=CC=C2C=C1</td>\n",
       "      <td>NCGC00261662-01</td>\n",
       "      <td>1</td>\n",
       "      <td>Cl.Nc1ccc(-c2ccc3ccccc3n2)cc1</td>\n",
       "    </tr>\n",
       "  </tbody>\n",
       "</table>\n",
       "</div>"
      ],
      "text/plain": [
       "                                           compounds               id label  \\\n",
       "0  OC(=O)\\C=C/C(O)=O.C[C@]12CC=C3[C@@H](CCC4=CC(=...  NCGC00261900-01     0   \n",
       "1  [Na+].NC1=NC=NC2=C1N=C(Br)N2C1OC2CO[P@]([O-])(...  NCGC00260869-01     0   \n",
       "2        O=C1N2CCC3=C(NC4=C3C=CC=C4)C2=NC2=C1C=CC=C2  NCGC00261776-01     1   \n",
       "3  CC1=CC=C(C=C1)S(=O)(=O)N[C@@H](CC1=CC=CC=C1)C(...  NCGC00261842-01     0   \n",
       "4               Cl.NC1=CC=C(C=C1)C1=NC2=CC=CC=C2C=C1  NCGC00261662-01     1   \n",
       "\n",
       "                                       std_compounds  \n",
       "0  C[C@]12C=CC(=O)C=C1CC[C@@H]1C2=CC[C@]2(C)[C@@H...  \n",
       "1  Nc1ncnc2c1nc(Br)n2C1OC2CO[P@@](=O)([O-])O[C@@H...  \n",
       "2              O=c1c2ccccc2nc2n1CCc1c-2[nH]c2ccccc12  \n",
       "3     Cc1ccc(S(=O)(=O)N[C@@H](Cc2ccccc2)C(=O)CCl)cc1  \n",
       "4                      Cl.Nc1ccc(-c2ccc3ccccc3n2)cc1  "
      ]
     },
     "execution_count": 29,
     "metadata": {},
     "output_type": "execute_result"
    }
   ],
   "source": [
    "# standardize compound SMILES using MolVS\n",
    "nr_ahr_test_std['std_compounds'] = nr_ahr_test_std.compounds.map(lambda x: standardize_smiles(x))\n",
    "print(len(nr_ahr_test_std))\n",
    "nr_ahr_test_std.head()"
   ]
  },
  {
   "cell_type": "code",
   "execution_count": 30,
   "metadata": {},
   "outputs": [],
   "source": [
    "# generate duplicate-free training dataset csv file\n",
    "#nr_ahr_test_std.to_csv('../processed_data/nr_ahr_test_std.csv')"
   ]
  },
  {
   "cell_type": "code",
   "execution_count": 31,
   "metadata": {},
   "outputs": [
    {
     "name": "stdout",
     "output_type": "stream",
     "text": [
      "609\n",
      "609\n"
     ]
    }
   ],
   "source": [
    "# split into test_data and test_labels\n",
    "test_data_std = nr_ahr_test['compounds']\n",
    "test_labels_std = nr_ahr_test['label']\n",
    "\n",
    "print(len(test_data))\n",
    "print(len(test_labels))"
   ]
  },
  {
   "cell_type": "code",
   "execution_count": null,
   "metadata": {},
   "outputs": [],
   "source": []
  }
 ],
 "metadata": {
  "kernelspec": {
   "display_name": "Python 3",
   "language": "python",
   "name": "python3"
  },
  "language_info": {
   "codemirror_mode": {
    "name": "ipython",
    "version": 3
   },
   "file_extension": ".py",
   "mimetype": "text/x-python",
   "name": "python",
   "nbconvert_exporter": "python",
   "pygments_lexer": "ipython3",
   "version": "3.8.3"
  }
 },
 "nbformat": 4,
 "nbformat_minor": 4
}
