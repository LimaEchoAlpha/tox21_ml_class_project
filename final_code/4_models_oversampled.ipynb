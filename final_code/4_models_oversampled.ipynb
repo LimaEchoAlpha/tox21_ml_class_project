{
 "cells": [
  {
   "cell_type": "code",
   "execution_count": 1,
   "metadata": {},
   "outputs": [],
   "source": [
    "# import libraries needed\n",
    "import pandas as pd\n",
    "import numpy as np\n",
    "import ast\n",
    "\n",
    "from spe_vectorizers import spe_featurizer, spe_featurizer2, atom_featurizer, kmer_featurizer\n",
    "from kaggle_chem import ecfp_featurizer, oned_featurizer\n",
    "from rdkit import Chem\n",
    "\n",
    "from sklearn.pipeline import Pipeline\n",
    "from sklearn.neighbors import KNeighborsClassifier\n",
    "from sklearn.linear_model import LogisticRegression\n",
    "from sklearn.naive_bayes import BernoulliNB\n",
    "from sklearn.naive_bayes import MultinomialNB\n",
    "from sklearn.naive_bayes import GaussianNB\n",
    "from sklearn.ensemble import RandomForestClassifier\n",
    "from sklearn.svm import SVC\n",
    "from sklearn.model_selection import GridSearchCV\n",
    "\n",
    "from sklearn.metrics import confusion_matrix, plot_confusion_matrix\n",
    "from sklearn import metrics\n",
    "from sklearn.metrics import classification_report, roc_auc_score\n",
    "\n",
    "from imblearn.over_sampling import SMOTE, RandomOverSampler"
   ]
  },
  {
   "cell_type": "markdown",
   "metadata": {},
   "source": [
    "### Import and Randomly Oversample Data\n",
    "\n",
    "Import cleaned and standardized data for the Tox21 NR-AhR assay.  Use train and score datasets as train and test data, respectively.  Use Random Oversampler to oversample the data."
   ]
  },
  {
   "cell_type": "code",
   "execution_count": 2,
   "metadata": {},
   "outputs": [
    {
     "name": "stdout",
     "output_type": "stream",
     "text": [
      "Train data shape: (11896,)\n",
      "Train labels shape: (11896,)\n",
      "Active compounds: 5948\n",
      "Inactive compounds: 5948\n",
      "Inactive : Active ~ 1\n"
     ]
    }
   ],
   "source": [
    "train = pd.read_csv('../processed_data/nr_ahr_std_train.csv')\n",
    "train.head()\n",
    "\n",
    "oversample = RandomOverSampler(sampling_strategy='minority')\n",
    "train_over, train_labels = oversample.fit_resample(train, train.label)\n",
    "\n",
    "train_data = train_over.std_compounds\n",
    "\n",
    "print('Train data shape:', train_data.shape)\n",
    "print('Train labels shape:', train_labels.shape)\n",
    "\n",
    "active_train = train_data[train_labels == 1].reset_index(drop=True)\n",
    "inactive_train = train_data[train_labels == 0].reset_index(drop=True)\n",
    "\n",
    "print('Active compounds:', len(train_labels[train_labels == 1]))\n",
    "print('Inactive compounds:', len(train_labels[train_labels == 0]))\n",
    "print('Inactive : Active ~', len(train_labels[train_labels == 0]) // len(train_labels[train_labels == 1]))"
   ]
  },
  {
   "cell_type": "code",
   "execution_count": 3,
   "metadata": {},
   "outputs": [
    {
     "name": "stdout",
     "output_type": "stream",
     "text": [
      "Test data shape: (607,)\n",
      "Test labels shape: (607,)\n",
      "Active compounds: 71\n",
      "Inactive compounds: 536\n",
      "Inactive : Active ~ 7\n"
     ]
    }
   ],
   "source": [
    "test = pd.read_csv('../processed_data/nr_ahr_test_std.csv')\n",
    "#test.head()\n",
    "\n",
    "test_data = test.std_compounds\n",
    "test_labels = test.label\n",
    "\n",
    "print('Test data shape:', test_data.shape)\n",
    "print('Test labels shape:', test_labels.shape)\n",
    "\n",
    "print('Active compounds:', len(test_labels[test_labels == 1]))\n",
    "print('Inactive compounds:', len(test_labels[test_labels == 0]))\n",
    "print('Inactive : Active ~', len(test_labels[test_labels == 0]) // len(test_labels[test_labels == 1]))"
   ]
  },
  {
   "cell_type": "markdown",
   "metadata": {},
   "source": [
    "#### Upload results datasets for extracting best model parameters"
   ]
  },
  {
   "cell_type": "code",
   "execution_count": 4,
   "metadata": {},
   "outputs": [],
   "source": [
    "classifier_names = ['bnb', 'rf', 'logreg', 'knn', 'svm']"
   ]
  },
  {
   "cell_type": "code",
   "execution_count": 5,
   "metadata": {},
   "outputs": [
    {
     "data": {
      "text/html": [
       "<div>\n",
       "<style scoped>\n",
       "    .dataframe tbody tr th:only-of-type {\n",
       "        vertical-align: middle;\n",
       "    }\n",
       "\n",
       "    .dataframe tbody tr th {\n",
       "        vertical-align: top;\n",
       "    }\n",
       "\n",
       "    .dataframe thead th {\n",
       "        text-align: right;\n",
       "    }\n",
       "</style>\n",
       "<table border=\"1\" class=\"dataframe\">\n",
       "  <thead>\n",
       "    <tr style=\"text-align: right;\">\n",
       "      <th></th>\n",
       "      <th>featurizer</th>\n",
       "      <th>model</th>\n",
       "      <th>best_params</th>\n",
       "      <th>recall_0</th>\n",
       "      <th>recall_1</th>\n",
       "      <th>roc_auc</th>\n",
       "    </tr>\n",
       "  </thead>\n",
       "  <tbody>\n",
       "    <tr>\n",
       "      <th>0</th>\n",
       "      <td>spe</td>\n",
       "      <td>bnb</td>\n",
       "      <td>{'alpha': 0.1}</td>\n",
       "      <td>0.863806</td>\n",
       "      <td>0.492958</td>\n",
       "      <td>0.820685</td>\n",
       "    </tr>\n",
       "    <tr>\n",
       "      <th>1</th>\n",
       "      <td>spe</td>\n",
       "      <td>rf</td>\n",
       "      <td>{'max_depth': None, 'n_estimators': 100}</td>\n",
       "      <td>0.975746</td>\n",
       "      <td>0.098592</td>\n",
       "      <td>0.821185</td>\n",
       "    </tr>\n",
       "    <tr>\n",
       "      <th>2</th>\n",
       "      <td>spe</td>\n",
       "      <td>logreg</td>\n",
       "      <td>{'C': 0.5, 'multi_class': 'auto', 'solver': 'l...</td>\n",
       "      <td>0.983209</td>\n",
       "      <td>0.197183</td>\n",
       "      <td>0.818951</td>\n",
       "    </tr>\n",
       "    <tr>\n",
       "      <th>3</th>\n",
       "      <td>spe</td>\n",
       "      <td>knn</td>\n",
       "      <td>{'n_neighbors': 1}</td>\n",
       "      <td>0.902985</td>\n",
       "      <td>0.295775</td>\n",
       "      <td>0.599380</td>\n",
       "    </tr>\n",
       "    <tr>\n",
       "      <th>4</th>\n",
       "      <td>spe</td>\n",
       "      <td>svm</td>\n",
       "      <td>{'C': 1, 'kernel': 'linear', 'probability': True}</td>\n",
       "      <td>0.934701</td>\n",
       "      <td>0.380282</td>\n",
       "      <td>0.786184</td>\n",
       "    </tr>\n",
       "  </tbody>\n",
       "</table>\n",
       "</div>"
      ],
      "text/plain": [
       "  featurizer   model                                        best_params  \\\n",
       "0        spe     bnb                                     {'alpha': 0.1}   \n",
       "1        spe      rf           {'max_depth': None, 'n_estimators': 100}   \n",
       "2        spe  logreg  {'C': 0.5, 'multi_class': 'auto', 'solver': 'l...   \n",
       "3        spe     knn                                 {'n_neighbors': 1}   \n",
       "4        spe     svm  {'C': 1, 'kernel': 'linear', 'probability': True}   \n",
       "\n",
       "   recall_0  recall_1   roc_auc  \n",
       "0  0.863806  0.492958  0.820685  \n",
       "1  0.975746  0.098592  0.821185  \n",
       "2  0.983209  0.197183  0.818951  \n",
       "3  0.902985  0.295775  0.599380  \n",
       "4  0.934701  0.380282  0.786184  "
      ]
     },
     "execution_count": 5,
     "metadata": {},
     "output_type": "execute_result"
    }
   ],
   "source": [
    "# upload results dataset\n",
    "matrix_model = pd.read_csv('../processed_data/model_matrix2.csv')\n",
    "matrix_model = matrix_model.drop(['Unnamed: 0'], axis=1)\n",
    "\n",
    "# group by featurizer\n",
    "by_featurizer = matrix_model.groupby('featurizer')\n",
    "\n",
    "matrix_model.head()"
   ]
  },
  {
   "cell_type": "code",
   "execution_count": 6,
   "metadata": {},
   "outputs": [
    {
     "data": {
      "text/html": [
       "<div>\n",
       "<style scoped>\n",
       "    .dataframe tbody tr th:only-of-type {\n",
       "        vertical-align: middle;\n",
       "    }\n",
       "\n",
       "    .dataframe tbody tr th {\n",
       "        vertical-align: top;\n",
       "    }\n",
       "\n",
       "    .dataframe thead th {\n",
       "        text-align: right;\n",
       "    }\n",
       "</style>\n",
       "<table border=\"1\" class=\"dataframe\">\n",
       "  <thead>\n",
       "    <tr style=\"text-align: right;\">\n",
       "      <th></th>\n",
       "      <th>featurizer</th>\n",
       "      <th>model</th>\n",
       "      <th>best_params</th>\n",
       "      <th>recall_0</th>\n",
       "      <th>recall_1</th>\n",
       "      <th>roc_auc</th>\n",
       "    </tr>\n",
       "  </thead>\n",
       "  <tbody>\n",
       "    <tr>\n",
       "      <th>0</th>\n",
       "      <td>ecfp</td>\n",
       "      <td>bnb</td>\n",
       "      <td>{'alpha': 1e-10}</td>\n",
       "      <td>0.652985</td>\n",
       "      <td>0.887324</td>\n",
       "      <td>0.843835</td>\n",
       "    </tr>\n",
       "    <tr>\n",
       "      <th>1</th>\n",
       "      <td>ecfp</td>\n",
       "      <td>rf</td>\n",
       "      <td>{'max_depth': 100, 'n_estimators': 100}</td>\n",
       "      <td>0.979478</td>\n",
       "      <td>0.253521</td>\n",
       "      <td>0.890740</td>\n",
       "    </tr>\n",
       "    <tr>\n",
       "      <th>2</th>\n",
       "      <td>ecfp</td>\n",
       "      <td>logreg</td>\n",
       "      <td>{'C': 0.5, 'multi_class': 'auto', 'solver': 'l...</td>\n",
       "      <td>0.945896</td>\n",
       "      <td>0.422535</td>\n",
       "      <td>0.858682</td>\n",
       "    </tr>\n",
       "    <tr>\n",
       "      <th>3</th>\n",
       "      <td>ecfp</td>\n",
       "      <td>knn</td>\n",
       "      <td>{'n_neighbors': 1}</td>\n",
       "      <td>0.912313</td>\n",
       "      <td>0.549296</td>\n",
       "      <td>0.730805</td>\n",
       "    </tr>\n",
       "    <tr>\n",
       "      <th>4</th>\n",
       "      <td>ecfp</td>\n",
       "      <td>svm</td>\n",
       "      <td>{'C': 0.1, 'kernel': 'linear', 'probability': ...</td>\n",
       "      <td>0.977612</td>\n",
       "      <td>0.239437</td>\n",
       "      <td>0.850983</td>\n",
       "    </tr>\n",
       "  </tbody>\n",
       "</table>\n",
       "</div>"
      ],
      "text/plain": [
       "  featurizer   model                                        best_params  \\\n",
       "0       ecfp     bnb                                   {'alpha': 1e-10}   \n",
       "1       ecfp      rf            {'max_depth': 100, 'n_estimators': 100}   \n",
       "2       ecfp  logreg  {'C': 0.5, 'multi_class': 'auto', 'solver': 'l...   \n",
       "3       ecfp     knn                                 {'n_neighbors': 1}   \n",
       "4       ecfp     svm  {'C': 0.1, 'kernel': 'linear', 'probability': ...   \n",
       "\n",
       "   recall_0  recall_1   roc_auc  \n",
       "0  0.652985  0.887324  0.843835  \n",
       "1  0.979478  0.253521  0.890740  \n",
       "2  0.945896  0.422535  0.858682  \n",
       "3  0.912313  0.549296  0.730805  \n",
       "4  0.977612  0.239437  0.850983  "
      ]
     },
     "execution_count": 6,
     "metadata": {},
     "output_type": "execute_result"
    }
   ],
   "source": [
    "# upload results dataset\n",
    "conventional = pd.read_csv('../processed_data/model_matrix_conventional.csv')\n",
    "conventional = conventional.drop(['Unnamed: 0'], axis=1)\n",
    "\n",
    "# group by featurizer\n",
    "by_method = conventional.groupby('featurizer')\n",
    "\n",
    "conventional.head()"
   ]
  },
  {
   "cell_type": "markdown",
   "metadata": {},
   "source": [
    "#### Helper functions for running model loops"
   ]
  },
  {
   "cell_type": "code",
   "execution_count": 7,
   "metadata": {},
   "outputs": [],
   "source": [
    "def run_model(classifier, x_train, x_test):\n",
    "    \"\"\"Helper function for running and evaluating models\n",
    "       Returns recall for each label and ROC-AUC score\"\"\"\n",
    "    \n",
    "    trained_classifier = classifier.fit(x_train, train_labels)\n",
    "    \n",
    "    # calculate recall for 0 and 1 \n",
    "    report = classification_report(test_labels, trained_classifier.predict(x_test), output_dict=True)\n",
    "    recall_0 = report['0']['recall']\n",
    "    recall_1 = report['1']['recall']\n",
    "    \n",
    "    # calculate roc-auc score for model\n",
    "    roc_auc = roc_auc_score(test_labels, trained_classifier.predict_proba(x_test)[:, 1])\n",
    "    \n",
    "    return recall_0, recall_1, roc_auc"
   ]
  },
  {
   "cell_type": "markdown",
   "metadata": {},
   "source": [
    "#### Initialize list for constructing results dataframe"
   ]
  },
  {
   "cell_type": "code",
   "execution_count": 8,
   "metadata": {},
   "outputs": [],
   "source": [
    "results_list = []"
   ]
  },
  {
   "cell_type": "markdown",
   "metadata": {},
   "source": [
    "## Oversampled Model Matrix Experiment\n",
    "\n",
    "Re-run best models from model matrix experiment using oversampled data."
   ]
  },
  {
   "cell_type": "markdown",
   "metadata": {},
   "source": [
    "### SPE Featurizer"
   ]
  },
  {
   "cell_type": "code",
   "execution_count": 9,
   "metadata": {},
   "outputs": [
    {
     "name": "stdout",
     "output_type": "stream",
     "text": [
      "(11896, 2378)\n",
      "(607, 2378)\n"
     ]
    }
   ],
   "source": [
    "# generate features\n",
    "x_spe, x_spe_test, spe_vocab = spe_featurizer(train_data, test_data)\n",
    "\n",
    "print(x_spe.shape)\n",
    "print(x_spe_test.shape)"
   ]
  },
  {
   "cell_type": "code",
   "execution_count": 10,
   "metadata": {},
   "outputs": [
    {
     "data": {
      "text/plain": [
       "[{'alpha': 0.1},\n",
       " {'max_depth': None, 'n_estimators': 100},\n",
       " {'C': 0.5, 'multi_class': 'auto', 'solver': 'liblinear'},\n",
       " {'n_neighbors': 1},\n",
       " {'C': 1, 'kernel': 'linear', 'probability': True}]"
      ]
     },
     "execution_count": 10,
     "metadata": {},
     "output_type": "execute_result"
    }
   ],
   "source": [
    "spe = by_featurizer.get_group('spe')\n",
    "spe_best_params = [ast.literal_eval(x) for x in spe.best_params]\n",
    "spe_best_params"
   ]
  },
  {
   "cell_type": "code",
   "execution_count": 11,
   "metadata": {},
   "outputs": [],
   "source": [
    "# best model list\n",
    "bnb_spe = BernoulliNB(**spe_best_params[0])\n",
    "rf_spe = RandomForestClassifier(**spe_best_params[1])\n",
    "logreg_spe = LogisticRegression(**spe_best_params[2])\n",
    "knn_spe = KNeighborsClassifier(**spe_best_params[3])\n",
    "svm_spe = SVC(**spe_best_params[4])\n",
    "\n",
    "spe_classifier_list = [bnb_spe, rf_spe, logreg_spe, knn_spe, svm_spe]"
   ]
  },
  {
   "cell_type": "code",
   "execution_count": 12,
   "metadata": {},
   "outputs": [
    {
     "data": {
      "text/plain": [
       "5"
      ]
     },
     "execution_count": 12,
     "metadata": {},
     "output_type": "execute_result"
    }
   ],
   "source": [
    "for i in range(len(spe_classifier_list)):\n",
    "    clf = spe_classifier_list[i]\n",
    "    clf_name = classifier_names[i]\n",
    "    best_params = spe_best_params[i]\n",
    "    \n",
    "    # run best model\n",
    "    recall_0, recall_1, roc_auc = run_model(clf, x_spe, x_spe_test)\n",
    "    \n",
    "    # make dictionary of metrics\n",
    "    metrics = {'featurizer': 'spe', 'model': clf_name, 'best_params': best_params,\n",
    "               'recall_0': recall_0, 'recall_1': recall_1, 'roc_auc': roc_auc}\n",
    "    \n",
    "    # collect in results list\n",
    "    results_list.append(metrics)\n",
    "    \n",
    "len(results_list)"
   ]
  },
  {
   "cell_type": "markdown",
   "metadata": {},
   "source": [
    "### K-mer Featurizer"
   ]
  },
  {
   "cell_type": "code",
   "execution_count": 13,
   "metadata": {},
   "outputs": [
    {
     "name": "stdout",
     "output_type": "stream",
     "text": [
      "(11896, 7831)\n",
      "(607, 7831)\n"
     ]
    }
   ],
   "source": [
    "# generate features\n",
    "x_kmer, x_kmer_test, kmer_vocab = kmer_featurizer(train_data, test_data)\n",
    "\n",
    "print(x_kmer.shape)\n",
    "print(x_kmer_test.shape)"
   ]
  },
  {
   "cell_type": "code",
   "execution_count": 14,
   "metadata": {},
   "outputs": [
    {
     "data": {
      "text/plain": [
       "[{'alpha': 0.1},\n",
       " {'max_depth': 100, 'n_estimators': 500},\n",
       " {'C': 0.5, 'multi_class': 'auto', 'solver': 'liblinear'},\n",
       " {'n_neighbors': 1},\n",
       " {'C': 1, 'kernel': 'linear', 'probability': True}]"
      ]
     },
     "execution_count": 14,
     "metadata": {},
     "output_type": "execute_result"
    }
   ],
   "source": [
    "kmer = by_featurizer.get_group('kmer')\n",
    "kmer_best_params = [ast.literal_eval(x) for x in kmer.best_params]\n",
    "kmer_best_params"
   ]
  },
  {
   "cell_type": "code",
   "execution_count": 15,
   "metadata": {},
   "outputs": [],
   "source": [
    "# best model list\n",
    "bnb_kmer = BernoulliNB(**kmer_best_params[0])\n",
    "rf_kmer = RandomForestClassifier(**kmer_best_params[1])\n",
    "logreg_kmer = LogisticRegression(**kmer_best_params[2])\n",
    "knn_kmer = KNeighborsClassifier(**kmer_best_params[3])\n",
    "svm_kmer = SVC(**kmer_best_params[4])\n",
    "\n",
    "kmer_classifier_list = [bnb_kmer, rf_kmer, logreg_kmer, knn_kmer, svm_kmer]"
   ]
  },
  {
   "cell_type": "code",
   "execution_count": 16,
   "metadata": {},
   "outputs": [
    {
     "data": {
      "text/plain": [
       "10"
      ]
     },
     "execution_count": 16,
     "metadata": {},
     "output_type": "execute_result"
    }
   ],
   "source": [
    "for i in range(len(kmer_classifier_list)):\n",
    "    clf = kmer_classifier_list[i]\n",
    "    clf_name = classifier_names[i]\n",
    "    best_params = kmer_best_params[i]\n",
    "    \n",
    "    # run best model\n",
    "    recall_0, recall_1, roc_auc = run_model(clf, x_kmer, x_kmer_test)\n",
    "    \n",
    "    # make dictionary of metrics\n",
    "    metrics = {'featurizer': 'kmer', 'model': clf_name, 'best_params': best_params,\n",
    "               'recall_0': recall_0, 'recall_1': recall_1, 'roc_auc': roc_auc}\n",
    "    \n",
    "    # collect in results list\n",
    "    results_list.append(metrics)\n",
    "    \n",
    "len(results_list)"
   ]
  },
  {
   "cell_type": "markdown",
   "metadata": {},
   "source": [
    "### Atom-wise Featurizer"
   ]
  },
  {
   "cell_type": "code",
   "execution_count": 17,
   "metadata": {},
   "outputs": [
    {
     "name": "stdout",
     "output_type": "stream",
     "text": [
      "(11896, 131)\n",
      "(607, 131)\n"
     ]
    }
   ],
   "source": [
    "# generate features\n",
    "x_atom, x_atom_test, atom_vocab = atom_featurizer(train_data, test_data)\n",
    "\n",
    "print(x_atom.shape)\n",
    "print(x_atom_test.shape)"
   ]
  },
  {
   "cell_type": "code",
   "execution_count": 18,
   "metadata": {},
   "outputs": [
    {
     "data": {
      "text/plain": [
       "[{'alpha': 1e-10},\n",
       " {'max_depth': 50, 'n_estimators': 200},\n",
       " {'C': 0.5, 'multi_class': 'auto', 'solver': 'liblinear'},\n",
       " {'n_neighbors': 1},\n",
       " {'C': 1, 'kernel': 'sigmoid', 'probability': True}]"
      ]
     },
     "execution_count": 18,
     "metadata": {},
     "output_type": "execute_result"
    }
   ],
   "source": [
    "atom = by_featurizer.get_group('atom')\n",
    "atom_best_params = [ast.literal_eval(x) for x in atom.best_params]\n",
    "atom_best_params"
   ]
  },
  {
   "cell_type": "code",
   "execution_count": 19,
   "metadata": {},
   "outputs": [],
   "source": [
    "# best model list\n",
    "bnb_atom = BernoulliNB(**atom_best_params[0])\n",
    "rf_atom = RandomForestClassifier(**atom_best_params[1])\n",
    "logreg_atom = LogisticRegression(**atom_best_params[2])\n",
    "knn_atom = KNeighborsClassifier(**atom_best_params[3])\n",
    "svm_atom = SVC(**atom_best_params[4])\n",
    "\n",
    "atom_classifier_list = [bnb_atom, rf_atom, logreg_atom, knn_atom, svm_atom]"
   ]
  },
  {
   "cell_type": "code",
   "execution_count": 20,
   "metadata": {},
   "outputs": [
    {
     "data": {
      "text/plain": [
       "15"
      ]
     },
     "execution_count": 20,
     "metadata": {},
     "output_type": "execute_result"
    }
   ],
   "source": [
    "for i in range(len(atom_classifier_list)):\n",
    "    clf = atom_classifier_list[i]\n",
    "    clf_name = classifier_names[i]\n",
    "    best_params = atom_best_params[i]\n",
    "    \n",
    "    # run best model\n",
    "    recall_0, recall_1, roc_auc = run_model(clf, x_atom, x_atom_test)\n",
    "    \n",
    "    # make dictionary of metrics\n",
    "    metrics = {'featurizer': 'atom', 'model': clf_name, 'best_params': best_params,\n",
    "               'recall_0': recall_0, 'recall_1': recall_1, 'roc_auc': roc_auc}\n",
    "    \n",
    "    # collect in results list\n",
    "    results_list.append(metrics)\n",
    "    \n",
    "len(results_list)"
   ]
  },
  {
   "cell_type": "markdown",
   "metadata": {},
   "source": [
    "## Export results\n",
    "\n",
    "Make results available for exploration in another notebook"
   ]
  },
  {
   "cell_type": "code",
   "execution_count": 21,
   "metadata": {},
   "outputs": [],
   "source": [
    "# convert results list to a dataframe\n",
    "model_matrix = pd.DataFrame(results_list)"
   ]
  },
  {
   "cell_type": "code",
   "execution_count": 22,
   "metadata": {},
   "outputs": [
    {
     "data": {
      "text/html": [
       "<div>\n",
       "<style scoped>\n",
       "    .dataframe tbody tr th:only-of-type {\n",
       "        vertical-align: middle;\n",
       "    }\n",
       "\n",
       "    .dataframe tbody tr th {\n",
       "        vertical-align: top;\n",
       "    }\n",
       "\n",
       "    .dataframe thead th {\n",
       "        text-align: right;\n",
       "    }\n",
       "</style>\n",
       "<table border=\"1\" class=\"dataframe\">\n",
       "  <thead>\n",
       "    <tr style=\"text-align: right;\">\n",
       "      <th></th>\n",
       "      <th>featurizer</th>\n",
       "      <th>model</th>\n",
       "      <th>best_params</th>\n",
       "      <th>recall_0</th>\n",
       "      <th>recall_1</th>\n",
       "      <th>roc_auc</th>\n",
       "    </tr>\n",
       "  </thead>\n",
       "  <tbody>\n",
       "    <tr>\n",
       "      <th>0</th>\n",
       "      <td>spe</td>\n",
       "      <td>bnb</td>\n",
       "      <td>{'alpha': 0.1}</td>\n",
       "      <td>0.785448</td>\n",
       "      <td>0.605634</td>\n",
       "      <td>0.766423</td>\n",
       "    </tr>\n",
       "    <tr>\n",
       "      <th>1</th>\n",
       "      <td>spe</td>\n",
       "      <td>rf</td>\n",
       "      <td>{'max_depth': None, 'n_estimators': 100}</td>\n",
       "      <td>0.955224</td>\n",
       "      <td>0.253521</td>\n",
       "      <td>0.814668</td>\n",
       "    </tr>\n",
       "    <tr>\n",
       "      <th>2</th>\n",
       "      <td>spe</td>\n",
       "      <td>logreg</td>\n",
       "      <td>{'C': 0.5, 'multi_class': 'auto', 'solver': 'l...</td>\n",
       "      <td>0.822761</td>\n",
       "      <td>0.661972</td>\n",
       "      <td>0.807599</td>\n",
       "    </tr>\n",
       "    <tr>\n",
       "      <th>3</th>\n",
       "      <td>spe</td>\n",
       "      <td>knn</td>\n",
       "      <td>{'n_neighbors': 1}</td>\n",
       "      <td>0.902985</td>\n",
       "      <td>0.295775</td>\n",
       "      <td>0.599380</td>\n",
       "    </tr>\n",
       "    <tr>\n",
       "      <th>4</th>\n",
       "      <td>spe</td>\n",
       "      <td>svm</td>\n",
       "      <td>{'C': 1, 'kernel': 'linear', 'probability': True}</td>\n",
       "      <td>0.843284</td>\n",
       "      <td>0.549296</td>\n",
       "      <td>0.777591</td>\n",
       "    </tr>\n",
       "    <tr>\n",
       "      <th>5</th>\n",
       "      <td>kmer</td>\n",
       "      <td>bnb</td>\n",
       "      <td>{'alpha': 0.1}</td>\n",
       "      <td>0.735075</td>\n",
       "      <td>0.802817</td>\n",
       "      <td>0.832852</td>\n",
       "    </tr>\n",
       "    <tr>\n",
       "      <th>6</th>\n",
       "      <td>kmer</td>\n",
       "      <td>rf</td>\n",
       "      <td>{'max_depth': 100, 'n_estimators': 500}</td>\n",
       "      <td>0.953358</td>\n",
       "      <td>0.450704</td>\n",
       "      <td>0.893644</td>\n",
       "    </tr>\n",
       "    <tr>\n",
       "      <th>7</th>\n",
       "      <td>kmer</td>\n",
       "      <td>logreg</td>\n",
       "      <td>{'C': 0.5, 'multi_class': 'auto', 'solver': 'l...</td>\n",
       "      <td>0.845149</td>\n",
       "      <td>0.704225</td>\n",
       "      <td>0.872609</td>\n",
       "    </tr>\n",
       "    <tr>\n",
       "      <th>8</th>\n",
       "      <td>kmer</td>\n",
       "      <td>knn</td>\n",
       "      <td>{'n_neighbors': 1}</td>\n",
       "      <td>0.932836</td>\n",
       "      <td>0.408451</td>\n",
       "      <td>0.670643</td>\n",
       "    </tr>\n",
       "    <tr>\n",
       "      <th>9</th>\n",
       "      <td>kmer</td>\n",
       "      <td>svm</td>\n",
       "      <td>{'C': 1, 'kernel': 'linear', 'probability': True}</td>\n",
       "      <td>0.873134</td>\n",
       "      <td>0.605634</td>\n",
       "      <td>0.830198</td>\n",
       "    </tr>\n",
       "    <tr>\n",
       "      <th>10</th>\n",
       "      <td>atom</td>\n",
       "      <td>bnb</td>\n",
       "      <td>{'alpha': 1e-10}</td>\n",
       "      <td>0.557836</td>\n",
       "      <td>0.901408</td>\n",
       "      <td>0.811830</td>\n",
       "    </tr>\n",
       "    <tr>\n",
       "      <th>11</th>\n",
       "      <td>atom</td>\n",
       "      <td>rf</td>\n",
       "      <td>{'max_depth': 50, 'n_estimators': 200}</td>\n",
       "      <td>0.942164</td>\n",
       "      <td>0.492958</td>\n",
       "      <td>0.887587</td>\n",
       "    </tr>\n",
       "    <tr>\n",
       "      <th>12</th>\n",
       "      <td>atom</td>\n",
       "      <td>logreg</td>\n",
       "      <td>{'C': 0.5, 'multi_class': 'auto', 'solver': 'l...</td>\n",
       "      <td>0.652985</td>\n",
       "      <td>0.901408</td>\n",
       "      <td>0.846542</td>\n",
       "    </tr>\n",
       "    <tr>\n",
       "      <th>13</th>\n",
       "      <td>atom</td>\n",
       "      <td>knn</td>\n",
       "      <td>{'n_neighbors': 1}</td>\n",
       "      <td>0.899254</td>\n",
       "      <td>0.549296</td>\n",
       "      <td>0.724275</td>\n",
       "    </tr>\n",
       "    <tr>\n",
       "      <th>14</th>\n",
       "      <td>atom</td>\n",
       "      <td>svm</td>\n",
       "      <td>{'C': 1, 'kernel': 'sigmoid', 'probability': T...</td>\n",
       "      <td>0.593284</td>\n",
       "      <td>0.732394</td>\n",
       "      <td>0.694844</td>\n",
       "    </tr>\n",
       "  </tbody>\n",
       "</table>\n",
       "</div>"
      ],
      "text/plain": [
       "   featurizer   model                                        best_params  \\\n",
       "0         spe     bnb                                     {'alpha': 0.1}   \n",
       "1         spe      rf           {'max_depth': None, 'n_estimators': 100}   \n",
       "2         spe  logreg  {'C': 0.5, 'multi_class': 'auto', 'solver': 'l...   \n",
       "3         spe     knn                                 {'n_neighbors': 1}   \n",
       "4         spe     svm  {'C': 1, 'kernel': 'linear', 'probability': True}   \n",
       "5        kmer     bnb                                     {'alpha': 0.1}   \n",
       "6        kmer      rf            {'max_depth': 100, 'n_estimators': 500}   \n",
       "7        kmer  logreg  {'C': 0.5, 'multi_class': 'auto', 'solver': 'l...   \n",
       "8        kmer     knn                                 {'n_neighbors': 1}   \n",
       "9        kmer     svm  {'C': 1, 'kernel': 'linear', 'probability': True}   \n",
       "10       atom     bnb                                   {'alpha': 1e-10}   \n",
       "11       atom      rf             {'max_depth': 50, 'n_estimators': 200}   \n",
       "12       atom  logreg  {'C': 0.5, 'multi_class': 'auto', 'solver': 'l...   \n",
       "13       atom     knn                                 {'n_neighbors': 1}   \n",
       "14       atom     svm  {'C': 1, 'kernel': 'sigmoid', 'probability': T...   \n",
       "\n",
       "    recall_0  recall_1   roc_auc  \n",
       "0   0.785448  0.605634  0.766423  \n",
       "1   0.955224  0.253521  0.814668  \n",
       "2   0.822761  0.661972  0.807599  \n",
       "3   0.902985  0.295775  0.599380  \n",
       "4   0.843284  0.549296  0.777591  \n",
       "5   0.735075  0.802817  0.832852  \n",
       "6   0.953358  0.450704  0.893644  \n",
       "7   0.845149  0.704225  0.872609  \n",
       "8   0.932836  0.408451  0.670643  \n",
       "9   0.873134  0.605634  0.830198  \n",
       "10  0.557836  0.901408  0.811830  \n",
       "11  0.942164  0.492958  0.887587  \n",
       "12  0.652985  0.901408  0.846542  \n",
       "13  0.899254  0.549296  0.724275  \n",
       "14  0.593284  0.732394  0.694844  "
      ]
     },
     "execution_count": 22,
     "metadata": {},
     "output_type": "execute_result"
    }
   ],
   "source": [
    "model_matrix"
   ]
  },
  {
   "cell_type": "code",
   "execution_count": 23,
   "metadata": {},
   "outputs": [],
   "source": [
    "# generate csv file for use in further exploration\n",
    "#model_matrix.to_csv('../processed_data/model_matrix_over2.csv')"
   ]
  },
  {
   "cell_type": "markdown",
   "metadata": {},
   "source": [
    "## Oversampled Conventional Matrix Experiment\n",
    "\n",
    "Re-run best models from conventional RDKit matrix experiment using oversampled data."
   ]
  },
  {
   "cell_type": "markdown",
   "metadata": {},
   "source": [
    "### ECFP Featurizer"
   ]
  },
  {
   "cell_type": "code",
   "execution_count": 24,
   "metadata": {},
   "outputs": [
    {
     "name": "stdout",
     "output_type": "stream",
     "text": [
      "(11896, 100)\n",
      "(607, 100)\n"
     ]
    }
   ],
   "source": [
    "# generate features\n",
    "x_ecfp, x_ecfp_test = ecfp_featurizer(train_over, test)\n",
    "\n",
    "print(x_ecfp.shape)\n",
    "print(x_ecfp_test.shape)"
   ]
  },
  {
   "cell_type": "code",
   "execution_count": 25,
   "metadata": {},
   "outputs": [
    {
     "data": {
      "text/plain": [
       "[{'alpha': 1e-10},\n",
       " {'max_depth': 100, 'n_estimators': 100},\n",
       " {'C': 0.5, 'multi_class': 'auto', 'solver': 'liblinear'},\n",
       " {'n_neighbors': 1},\n",
       " {'C': 0.1, 'kernel': 'linear', 'probability': True}]"
      ]
     },
     "execution_count": 25,
     "metadata": {},
     "output_type": "execute_result"
    }
   ],
   "source": [
    "ecfp = by_method.get_group('ecfp')\n",
    "ecfp_best_params = [ast.literal_eval(x) for x in ecfp.best_params]\n",
    "ecfp_best_params"
   ]
  },
  {
   "cell_type": "code",
   "execution_count": 26,
   "metadata": {},
   "outputs": [],
   "source": [
    "# best model list\n",
    "bnb_ecfp = BernoulliNB(**ecfp_best_params[0])\n",
    "rf_ecfp = RandomForestClassifier(**ecfp_best_params[1])\n",
    "logreg_ecfp = LogisticRegression(**ecfp_best_params[2])\n",
    "knn_ecfp = KNeighborsClassifier(**ecfp_best_params[3])\n",
    "svm_ecfp = SVC(**ecfp_best_params[4])\n",
    "\n",
    "ecfp_classifier_list = [bnb_ecfp, rf_ecfp, logreg_ecfp, knn_ecfp, svm_ecfp]"
   ]
  },
  {
   "cell_type": "code",
   "execution_count": 27,
   "metadata": {},
   "outputs": [
    {
     "data": {
      "text/plain": [
       "20"
      ]
     },
     "execution_count": 27,
     "metadata": {},
     "output_type": "execute_result"
    }
   ],
   "source": [
    "for i in range(len(ecfp_classifier_list)):\n",
    "    clf = ecfp_classifier_list[i]\n",
    "    clf_name = classifier_names[i]\n",
    "    best_params = ecfp_best_params[i]\n",
    "    \n",
    "    # run best model\n",
    "    recall_0, recall_1, roc_auc = run_model(clf, x_ecfp, x_ecfp_test)\n",
    "    \n",
    "    # make dictionary of metrics\n",
    "    metrics = {'featurizer': 'ecfp', 'model': clf_name, 'best_params': best_params,\n",
    "               'recall_0': recall_0, 'recall_1': recall_1, 'roc_auc': roc_auc}\n",
    "    \n",
    "    # collect in results list\n",
    "    results_list.append(metrics)\n",
    "    \n",
    "len(results_list)"
   ]
  },
  {
   "cell_type": "markdown",
   "metadata": {},
   "source": [
    "### 1D Featurizer (Molecular Descriptors)"
   ]
  },
  {
   "cell_type": "code",
   "execution_count": 28,
   "metadata": {},
   "outputs": [
    {
     "name": "stdout",
     "output_type": "stream",
     "text": [
      "(11896, 9)\n",
      "(607, 9)\n"
     ]
    }
   ],
   "source": [
    "# generate features\n",
    "x_oned, x_oned_test = oned_featurizer(train_over, test)\n",
    "\n",
    "print(x_oned.shape)\n",
    "print(x_oned_test.shape)"
   ]
  },
  {
   "cell_type": "code",
   "execution_count": 29,
   "metadata": {},
   "outputs": [
    {
     "data": {
      "text/plain": [
       "[{'alpha': 1e-10},\n",
       " {'max_depth': 50, 'n_estimators': 100},\n",
       " {'C': 0.5, 'multi_class': 'auto', 'solver': 'liblinear'},\n",
       " {'n_neighbors': 1},\n",
       " {'C': 0.0001, 'kernel': 'linear', 'probability': True}]"
      ]
     },
     "execution_count": 29,
     "metadata": {},
     "output_type": "execute_result"
    }
   ],
   "source": [
    "oned = by_method.get_group('oned')\n",
    "oned_best_params = [ast.literal_eval(x) for x in oned.best_params]\n",
    "oned_best_params"
   ]
  },
  {
   "cell_type": "code",
   "execution_count": 30,
   "metadata": {},
   "outputs": [],
   "source": [
    "# best model list\n",
    "bnb_oned = BernoulliNB(**oned_best_params[0])\n",
    "rf_oned = RandomForestClassifier(**oned_best_params[1])\n",
    "logreg_oned = LogisticRegression(**oned_best_params[2])\n",
    "knn_oned = KNeighborsClassifier(**oned_best_params[3])\n",
    "svm_oned = SVC(**oned_best_params[4])\n",
    "\n",
    "oned_classifier_list = [bnb_oned, rf_oned, logreg_oned, knn_oned, svm_oned]"
   ]
  },
  {
   "cell_type": "code",
   "execution_count": 31,
   "metadata": {},
   "outputs": [
    {
     "data": {
      "text/plain": [
       "25"
      ]
     },
     "execution_count": 31,
     "metadata": {},
     "output_type": "execute_result"
    }
   ],
   "source": [
    "for i in range(len(oned_classifier_list)):\n",
    "    clf = oned_classifier_list[i]\n",
    "    clf_name = classifier_names[i]\n",
    "    best_params = oned_best_params[i]\n",
    "    \n",
    "    # run best model\n",
    "    recall_0, recall_1, roc_auc = run_model(clf, x_oned, x_oned_test)\n",
    "    \n",
    "    # make dictionary of metrics\n",
    "    metrics = {'featurizer': 'oned', 'model': clf_name, 'best_params': best_params,\n",
    "               'recall_0': recall_0, 'recall_1': recall_1, 'roc_auc': roc_auc}\n",
    "    \n",
    "    # collect in results list\n",
    "    results_list.append(metrics)\n",
    "    \n",
    "len(results_list)"
   ]
  },
  {
   "cell_type": "markdown",
   "metadata": {},
   "source": [
    "## Export results\n",
    "\n",
    "Make results available for exploration in another notebook"
   ]
  },
  {
   "cell_type": "code",
   "execution_count": 32,
   "metadata": {},
   "outputs": [],
   "source": [
    "# convert results list to a dataframe\n",
    "model_matrix_conventional = pd.DataFrame(results_list)"
   ]
  },
  {
   "cell_type": "code",
   "execution_count": 33,
   "metadata": {},
   "outputs": [
    {
     "data": {
      "text/html": [
       "<div>\n",
       "<style scoped>\n",
       "    .dataframe tbody tr th:only-of-type {\n",
       "        vertical-align: middle;\n",
       "    }\n",
       "\n",
       "    .dataframe tbody tr th {\n",
       "        vertical-align: top;\n",
       "    }\n",
       "\n",
       "    .dataframe thead th {\n",
       "        text-align: right;\n",
       "    }\n",
       "</style>\n",
       "<table border=\"1\" class=\"dataframe\">\n",
       "  <thead>\n",
       "    <tr style=\"text-align: right;\">\n",
       "      <th></th>\n",
       "      <th>featurizer</th>\n",
       "      <th>model</th>\n",
       "      <th>best_params</th>\n",
       "      <th>recall_0</th>\n",
       "      <th>recall_1</th>\n",
       "      <th>roc_auc</th>\n",
       "    </tr>\n",
       "  </thead>\n",
       "  <tbody>\n",
       "    <tr>\n",
       "      <th>0</th>\n",
       "      <td>ecfp</td>\n",
       "      <td>bnb</td>\n",
       "      <td>{'alpha': 1e-10}</td>\n",
       "      <td>0.572761</td>\n",
       "      <td>0.971831</td>\n",
       "      <td>0.842600</td>\n",
       "    </tr>\n",
       "    <tr>\n",
       "      <th>1</th>\n",
       "      <td>ecfp</td>\n",
       "      <td>rf</td>\n",
       "      <td>{'max_depth': 100, 'n_estimators': 100}</td>\n",
       "      <td>0.960821</td>\n",
       "      <td>0.450704</td>\n",
       "      <td>0.884736</td>\n",
       "    </tr>\n",
       "    <tr>\n",
       "      <th>2</th>\n",
       "      <td>ecfp</td>\n",
       "      <td>logreg</td>\n",
       "      <td>{'C': 0.5, 'multi_class': 'auto', 'solver': 'l...</td>\n",
       "      <td>0.731343</td>\n",
       "      <td>0.830986</td>\n",
       "      <td>0.854189</td>\n",
       "    </tr>\n",
       "    <tr>\n",
       "      <th>3</th>\n",
       "      <td>ecfp</td>\n",
       "      <td>knn</td>\n",
       "      <td>{'n_neighbors': 1}</td>\n",
       "      <td>0.912313</td>\n",
       "      <td>0.549296</td>\n",
       "      <td>0.730805</td>\n",
       "    </tr>\n",
       "    <tr>\n",
       "      <th>4</th>\n",
       "      <td>ecfp</td>\n",
       "      <td>svm</td>\n",
       "      <td>{'C': 0.1, 'kernel': 'linear', 'probability': ...</td>\n",
       "      <td>0.718284</td>\n",
       "      <td>0.816901</td>\n",
       "      <td>0.838948</td>\n",
       "    </tr>\n",
       "    <tr>\n",
       "      <th>5</th>\n",
       "      <td>oned</td>\n",
       "      <td>bnb</td>\n",
       "      <td>{'alpha': 1e-10}</td>\n",
       "      <td>0.361940</td>\n",
       "      <td>0.760563</td>\n",
       "      <td>0.554853</td>\n",
       "    </tr>\n",
       "    <tr>\n",
       "      <th>6</th>\n",
       "      <td>oned</td>\n",
       "      <td>rf</td>\n",
       "      <td>{'max_depth': 50, 'n_estimators': 100}</td>\n",
       "      <td>0.934701</td>\n",
       "      <td>0.253521</td>\n",
       "      <td>0.697814</td>\n",
       "    </tr>\n",
       "    <tr>\n",
       "      <th>7</th>\n",
       "      <td>oned</td>\n",
       "      <td>logreg</td>\n",
       "      <td>{'C': 0.5, 'multi_class': 'auto', 'solver': 'l...</td>\n",
       "      <td>0.307836</td>\n",
       "      <td>0.859155</td>\n",
       "      <td>0.618023</td>\n",
       "    </tr>\n",
       "    <tr>\n",
       "      <th>8</th>\n",
       "      <td>oned</td>\n",
       "      <td>knn</td>\n",
       "      <td>{'n_neighbors': 1}</td>\n",
       "      <td>0.809701</td>\n",
       "      <td>0.436620</td>\n",
       "      <td>0.623161</td>\n",
       "    </tr>\n",
       "    <tr>\n",
       "      <th>9</th>\n",
       "      <td>oned</td>\n",
       "      <td>svm</td>\n",
       "      <td>{'C': 0.0001, 'kernel': 'linear', 'probability...</td>\n",
       "      <td>0.298507</td>\n",
       "      <td>0.901408</td>\n",
       "      <td>0.642225</td>\n",
       "    </tr>\n",
       "  </tbody>\n",
       "</table>\n",
       "</div>"
      ],
      "text/plain": [
       "  featurizer   model                                        best_params  \\\n",
       "0       ecfp     bnb                                   {'alpha': 1e-10}   \n",
       "1       ecfp      rf            {'max_depth': 100, 'n_estimators': 100}   \n",
       "2       ecfp  logreg  {'C': 0.5, 'multi_class': 'auto', 'solver': 'l...   \n",
       "3       ecfp     knn                                 {'n_neighbors': 1}   \n",
       "4       ecfp     svm  {'C': 0.1, 'kernel': 'linear', 'probability': ...   \n",
       "5       oned     bnb                                   {'alpha': 1e-10}   \n",
       "6       oned      rf             {'max_depth': 50, 'n_estimators': 100}   \n",
       "7       oned  logreg  {'C': 0.5, 'multi_class': 'auto', 'solver': 'l...   \n",
       "8       oned     knn                                 {'n_neighbors': 1}   \n",
       "9       oned     svm  {'C': 0.0001, 'kernel': 'linear', 'probability...   \n",
       "\n",
       "   recall_0  recall_1   roc_auc  \n",
       "0  0.572761  0.971831  0.842600  \n",
       "1  0.960821  0.450704  0.884736  \n",
       "2  0.731343  0.830986  0.854189  \n",
       "3  0.912313  0.549296  0.730805  \n",
       "4  0.718284  0.816901  0.838948  \n",
       "5  0.361940  0.760563  0.554853  \n",
       "6  0.934701  0.253521  0.697814  \n",
       "7  0.307836  0.859155  0.618023  \n",
       "8  0.809701  0.436620  0.623161  \n",
       "9  0.298507  0.901408  0.642225  "
      ]
     },
     "execution_count": 33,
     "metadata": {},
     "output_type": "execute_result"
    }
   ],
   "source": [
    "model_matrix_conventional2 = model_matrix_conventional[15:].reset_index(drop=True)\n",
    "model_matrix_conventional2"
   ]
  },
  {
   "cell_type": "code",
   "execution_count": 34,
   "metadata": {},
   "outputs": [],
   "source": [
    "# generate csv file for use in further exploration\n",
    "#model_matrix_conventional2.to_csv('../processed_data/model_matrix_conventional_over.csv')"
   ]
  },
  {
   "cell_type": "code",
   "execution_count": null,
   "metadata": {},
   "outputs": [],
   "source": []
  }
 ],
 "metadata": {
  "kernelspec": {
   "display_name": "Python 3",
   "language": "python",
   "name": "python3"
  },
  "language_info": {
   "codemirror_mode": {
    "name": "ipython",
    "version": 3
   },
   "file_extension": ".py",
   "mimetype": "text/x-python",
   "name": "python",
   "nbconvert_exporter": "python",
   "pygments_lexer": "ipython3",
   "version": "3.8.3"
  }
 },
 "nbformat": 4,
 "nbformat_minor": 4
}
